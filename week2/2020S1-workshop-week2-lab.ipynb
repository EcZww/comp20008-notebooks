{
 "cells": [
  {
   "cell_type": "markdown",
   "metadata": {},
   "source": [
    "# Elements Of Data Processing (2020S1) - Week 2\n"
   ]
  },
  {
   "cell_type": "markdown",
   "metadata": {},
   "source": [
    "# DataFrames\n",
    "\n",
    "DataFrames represents tabular data structure and can contain multiple rows and columns.  They can be thought of as a dictionary of Series objects, and are one of the most important data structures you will use to store and manipulate information in data science.\n",
    "\n",
    "A DataFrame has both row and column indices.\n",
    "\n",
    "The Pandas DataFrame structure contains many useful methods to aid your analysis.  Recall from week 1 the [API reference](https://pandas.pydata.org/pandas-docs/stable/reference/index.html) is available which details all of the functionality provided by pandas.  You will particularly need con consult the [DataFrame](https://pandas.pydata.org/pandas-docs/stable/reference/frame.html) reference page.\n",
    "\n",
    "\n",
    "<img src=\"images/DF.jpg\">\n"
   ]
  },
  {
   "cell_type": "code",
   "execution_count": 1,
   "metadata": {},
   "outputs": [],
   "source": [
    "# as before, begin by importing the pandas library\n",
    "import pandas as pd"
   ]
  },
  {
   "cell_type": "code",
   "execution_count": 2,
   "metadata": {},
   "outputs": [],
   "source": [
    "# create a new series of the population\n",
    "Aus_Population = {'1990':17065100, '2000':19153000, '2007':20827600,\n",
    "                 '2008':21249200,'2009':21691700,'2010':22031750,\n",
    "                 '2011':22340024, '2012':22728254, '2013':23117353}\n",
    "population = pd.Series(Aus_Population)"
   ]
  },
  {
   "cell_type": "code",
   "execution_count": 3,
   "metadata": {},
   "outputs": [],
   "source": [
    "# we will reuse the emissions data from last week\n",
    "Aus_Emission = {'1990':15.45288167, '2000':17.20060983, '2007':17.86526004,\n",
    "                '2008':18.16087566,'2009':18.20018196,'2010':16.92095367,\n",
    "                '2011':16.86260095, '2012':16.51938578, '2013':16.34730205}\n",
    "\n",
    "co2_Emission = pd.Series(Aus_Emission)"
   ]
  },
  {
   "cell_type": "code",
   "execution_count": 4,
   "metadata": {},
   "outputs": [
    {
     "data": {
      "text/plain": [
       "1990    17065100\n",
       "2000    19153000\n",
       "2007    20827600\n",
       "2008    21249200\n",
       "2009    21691700\n",
       "2010    22031750\n",
       "2011    22340024\n",
       "2012    22728254\n",
       "2013    23117353\n",
       "dtype: int64"
      ]
     },
     "execution_count": 4,
     "metadata": {},
     "output_type": "execute_result"
    }
   ],
   "source": [
    "# verify the values in the series\n",
    "population"
   ]
  },
  {
   "cell_type": "code",
   "execution_count": 5,
   "metadata": {},
   "outputs": [
    {
     "data": {
      "text/html": [
       "<div>\n",
       "<style scoped>\n",
       "    .dataframe tbody tr th:only-of-type {\n",
       "        vertical-align: middle;\n",
       "    }\n",
       "\n",
       "    .dataframe tbody tr th {\n",
       "        vertical-align: top;\n",
       "    }\n",
       "\n",
       "    .dataframe thead th {\n",
       "        text-align: right;\n",
       "    }\n",
       "</style>\n",
       "<table border=\"1\" class=\"dataframe\">\n",
       "  <thead>\n",
       "    <tr style=\"text-align: right;\">\n",
       "      <th></th>\n",
       "      <th>co2_emission</th>\n",
       "      <th>Population</th>\n",
       "    </tr>\n",
       "  </thead>\n",
       "  <tbody>\n",
       "    <tr>\n",
       "      <th>1990</th>\n",
       "      <td>15.452882</td>\n",
       "      <td>17065100</td>\n",
       "    </tr>\n",
       "    <tr>\n",
       "      <th>2000</th>\n",
       "      <td>17.200610</td>\n",
       "      <td>19153000</td>\n",
       "    </tr>\n",
       "    <tr>\n",
       "      <th>2007</th>\n",
       "      <td>17.865260</td>\n",
       "      <td>20827600</td>\n",
       "    </tr>\n",
       "    <tr>\n",
       "      <th>2008</th>\n",
       "      <td>18.160876</td>\n",
       "      <td>21249200</td>\n",
       "    </tr>\n",
       "    <tr>\n",
       "      <th>2009</th>\n",
       "      <td>18.200182</td>\n",
       "      <td>21691700</td>\n",
       "    </tr>\n",
       "    <tr>\n",
       "      <th>2010</th>\n",
       "      <td>16.920954</td>\n",
       "      <td>22031750</td>\n",
       "    </tr>\n",
       "    <tr>\n",
       "      <th>2011</th>\n",
       "      <td>16.862601</td>\n",
       "      <td>22340024</td>\n",
       "    </tr>\n",
       "    <tr>\n",
       "      <th>2012</th>\n",
       "      <td>16.519386</td>\n",
       "      <td>22728254</td>\n",
       "    </tr>\n",
       "    <tr>\n",
       "      <th>2013</th>\n",
       "      <td>16.347302</td>\n",
       "      <td>23117353</td>\n",
       "    </tr>\n",
       "  </tbody>\n",
       "</table>\n",
       "</div>"
      ],
      "text/plain": [
       "      co2_emission  Population\n",
       "1990     15.452882    17065100\n",
       "2000     17.200610    19153000\n",
       "2007     17.865260    20827600\n",
       "2008     18.160876    21249200\n",
       "2009     18.200182    21691700\n",
       "2010     16.920954    22031750\n",
       "2011     16.862601    22340024\n",
       "2012     16.519386    22728254\n",
       "2013     16.347302    23117353"
      ]
     },
     "execution_count": 5,
     "metadata": {},
     "output_type": "execute_result"
    }
   ],
   "source": [
    "# create a DataFrame object from the series objects\n",
    "australia = pd.DataFrame({'co2_emission':co2_Emission, 'Population':population})\n",
    "australia"
   ]
  },
  {
   "cell_type": "code",
   "execution_count": 7,
   "metadata": {},
   "outputs": [],
   "source": [
    "# create a DataFrame from a csv file\n",
    "countries = pd.read_csv('data/countries.csv',encoding = 'ISO-8859-1')"
   ]
  },
  {
   "cell_type": "code",
   "execution_count": 8,
   "metadata": {},
   "outputs": [
    {
     "data": {
      "text/html": [
       "<div>\n",
       "<style scoped>\n",
       "    .dataframe tbody tr th:only-of-type {\n",
       "        vertical-align: middle;\n",
       "    }\n",
       "\n",
       "    .dataframe tbody tr th {\n",
       "        vertical-align: top;\n",
       "    }\n",
       "\n",
       "    .dataframe thead th {\n",
       "        text-align: right;\n",
       "    }\n",
       "</style>\n",
       "<table border=\"1\" class=\"dataframe\">\n",
       "  <thead>\n",
       "    <tr style=\"text-align: right;\">\n",
       "      <th></th>\n",
       "      <th>Country</th>\n",
       "      <th>Region</th>\n",
       "      <th>IncomeGroup</th>\n",
       "    </tr>\n",
       "  </thead>\n",
       "  <tbody>\n",
       "    <tr>\n",
       "      <th>0</th>\n",
       "      <td>Afghanistan</td>\n",
       "      <td>South Asia</td>\n",
       "      <td>Low income</td>\n",
       "    </tr>\n",
       "    <tr>\n",
       "      <th>1</th>\n",
       "      <td>Albania</td>\n",
       "      <td>Europe &amp; Central Asia</td>\n",
       "      <td>Upper middle income</td>\n",
       "    </tr>\n",
       "    <tr>\n",
       "      <th>2</th>\n",
       "      <td>Algeria</td>\n",
       "      <td>Middle East &amp; North Africa</td>\n",
       "      <td>Upper middle income</td>\n",
       "    </tr>\n",
       "    <tr>\n",
       "      <th>3</th>\n",
       "      <td>American Samoa</td>\n",
       "      <td>East Asia &amp; Pacific</td>\n",
       "      <td>Upper middle income</td>\n",
       "    </tr>\n",
       "    <tr>\n",
       "      <th>4</th>\n",
       "      <td>Andorra</td>\n",
       "      <td>Europe &amp; Central Asia</td>\n",
       "      <td>High income</td>\n",
       "    </tr>\n",
       "    <tr>\n",
       "      <th>5</th>\n",
       "      <td>Angola</td>\n",
       "      <td>Sub-Saharan Africa</td>\n",
       "      <td>Upper middle income</td>\n",
       "    </tr>\n",
       "    <tr>\n",
       "      <th>6</th>\n",
       "      <td>Antigua and Barbuda</td>\n",
       "      <td>Latin America &amp; Caribbean</td>\n",
       "      <td>High income</td>\n",
       "    </tr>\n",
       "    <tr>\n",
       "      <th>7</th>\n",
       "      <td>Argentina</td>\n",
       "      <td>Latin America &amp; Caribbean</td>\n",
       "      <td>Upper middle income</td>\n",
       "    </tr>\n",
       "    <tr>\n",
       "      <th>8</th>\n",
       "      <td>Armenia</td>\n",
       "      <td>Europe &amp; Central Asia</td>\n",
       "      <td>Lower middle income</td>\n",
       "    </tr>\n",
       "    <tr>\n",
       "      <th>9</th>\n",
       "      <td>Aruba</td>\n",
       "      <td>Latin America &amp; Caribbean</td>\n",
       "      <td>High income</td>\n",
       "    </tr>\n",
       "  </tbody>\n",
       "</table>\n",
       "</div>"
      ],
      "text/plain": [
       "               Country                      Region          IncomeGroup\n",
       "0          Afghanistan                  South Asia           Low income\n",
       "1              Albania       Europe & Central Asia  Upper middle income\n",
       "2              Algeria  Middle East & North Africa  Upper middle income\n",
       "3       American Samoa         East Asia & Pacific  Upper middle income\n",
       "4              Andorra       Europe & Central Asia          High income\n",
       "5               Angola          Sub-Saharan Africa  Upper middle income\n",
       "6  Antigua and Barbuda   Latin America & Caribbean          High income\n",
       "7            Argentina   Latin America & Caribbean  Upper middle income\n",
       "8              Armenia       Europe & Central Asia  Lower middle income\n",
       "9                Aruba   Latin America & Caribbean          High income"
      ]
     },
     "execution_count": 8,
     "metadata": {},
     "output_type": "execute_result"
    }
   ],
   "source": [
    "# check the top 10 countries in the DataFrame\n",
    "countries.head(10) # the default value is set to 5"
   ]
  },
  {
   "cell_type": "code",
   "execution_count": 9,
   "metadata": {},
   "outputs": [
    {
     "data": {
      "text/plain": [
       "Europe & Central Asia         58\n",
       "Sub-Saharan Africa            48\n",
       "Latin America & Caribbean     42\n",
       "East Asia & Pacific           37\n",
       "Middle East & North Africa    21\n",
       "South Asia                     8\n",
       "North America                  3\n",
       "Name: Region, dtype: int64"
      ]
     },
     "execution_count": 9,
     "metadata": {},
     "output_type": "execute_result"
    }
   ],
   "source": [
    "# count the number of countries in each region\n",
    "countries.Region.value_counts()"
   ]
  },
  {
   "cell_type": "code",
   "execution_count": 10,
   "metadata": {},
   "outputs": [
    {
     "data": {
      "text/html": [
       "<div>\n",
       "<style scoped>\n",
       "    .dataframe tbody tr th:only-of-type {\n",
       "        vertical-align: middle;\n",
       "    }\n",
       "\n",
       "    .dataframe tbody tr th {\n",
       "        vertical-align: top;\n",
       "    }\n",
       "\n",
       "    .dataframe thead th {\n",
       "        text-align: right;\n",
       "    }\n",
       "</style>\n",
       "<table border=\"1\" class=\"dataframe\">\n",
       "  <thead>\n",
       "    <tr style=\"text-align: right;\">\n",
       "      <th></th>\n",
       "      <th>Region</th>\n",
       "      <th>IncomeGroup</th>\n",
       "    </tr>\n",
       "    <tr>\n",
       "      <th>Country</th>\n",
       "      <th></th>\n",
       "      <th></th>\n",
       "    </tr>\n",
       "  </thead>\n",
       "  <tbody>\n",
       "    <tr>\n",
       "      <th>Afghanistan</th>\n",
       "      <td>South Asia</td>\n",
       "      <td>Low income</td>\n",
       "    </tr>\n",
       "    <tr>\n",
       "      <th>Albania</th>\n",
       "      <td>Europe &amp; Central Asia</td>\n",
       "      <td>Upper middle income</td>\n",
       "    </tr>\n",
       "    <tr>\n",
       "      <th>Algeria</th>\n",
       "      <td>Middle East &amp; North Africa</td>\n",
       "      <td>Upper middle income</td>\n",
       "    </tr>\n",
       "    <tr>\n",
       "      <th>American Samoa</th>\n",
       "      <td>East Asia &amp; Pacific</td>\n",
       "      <td>Upper middle income</td>\n",
       "    </tr>\n",
       "    <tr>\n",
       "      <th>Andorra</th>\n",
       "      <td>Europe &amp; Central Asia</td>\n",
       "      <td>High income</td>\n",
       "    </tr>\n",
       "    <tr>\n",
       "      <th>Angola</th>\n",
       "      <td>Sub-Saharan Africa</td>\n",
       "      <td>Upper middle income</td>\n",
       "    </tr>\n",
       "    <tr>\n",
       "      <th>Antigua and Barbuda</th>\n",
       "      <td>Latin America &amp; Caribbean</td>\n",
       "      <td>High income</td>\n",
       "    </tr>\n",
       "    <tr>\n",
       "      <th>Argentina</th>\n",
       "      <td>Latin America &amp; Caribbean</td>\n",
       "      <td>Upper middle income</td>\n",
       "    </tr>\n",
       "    <tr>\n",
       "      <th>Armenia</th>\n",
       "      <td>Europe &amp; Central Asia</td>\n",
       "      <td>Lower middle income</td>\n",
       "    </tr>\n",
       "    <tr>\n",
       "      <th>Aruba</th>\n",
       "      <td>Latin America &amp; Caribbean</td>\n",
       "      <td>High income</td>\n",
       "    </tr>\n",
       "    <tr>\n",
       "      <th>Australia</th>\n",
       "      <td>East Asia &amp; Pacific</td>\n",
       "      <td>High income</td>\n",
       "    </tr>\n",
       "    <tr>\n",
       "      <th>Austria</th>\n",
       "      <td>Europe &amp; Central Asia</td>\n",
       "      <td>High income</td>\n",
       "    </tr>\n",
       "    <tr>\n",
       "      <th>Azerbaijan</th>\n",
       "      <td>Europe &amp; Central Asia</td>\n",
       "      <td>Upper middle income</td>\n",
       "    </tr>\n",
       "    <tr>\n",
       "      <th>Bahamas, The</th>\n",
       "      <td>Latin America &amp; Caribbean</td>\n",
       "      <td>High income</td>\n",
       "    </tr>\n",
       "    <tr>\n",
       "      <th>Bahrain</th>\n",
       "      <td>Middle East &amp; North Africa</td>\n",
       "      <td>High income</td>\n",
       "    </tr>\n",
       "    <tr>\n",
       "      <th>Bangladesh</th>\n",
       "      <td>South Asia</td>\n",
       "      <td>Lower middle income</td>\n",
       "    </tr>\n",
       "    <tr>\n",
       "      <th>Barbados</th>\n",
       "      <td>Latin America &amp; Caribbean</td>\n",
       "      <td>High income</td>\n",
       "    </tr>\n",
       "    <tr>\n",
       "      <th>Belarus</th>\n",
       "      <td>Europe &amp; Central Asia</td>\n",
       "      <td>Upper middle income</td>\n",
       "    </tr>\n",
       "    <tr>\n",
       "      <th>Belgium</th>\n",
       "      <td>Europe &amp; Central Asia</td>\n",
       "      <td>High income</td>\n",
       "    </tr>\n",
       "    <tr>\n",
       "      <th>Belize</th>\n",
       "      <td>Latin America &amp; Caribbean</td>\n",
       "      <td>Upper middle income</td>\n",
       "    </tr>\n",
       "    <tr>\n",
       "      <th>Benin</th>\n",
       "      <td>Sub-Saharan Africa</td>\n",
       "      <td>Low income</td>\n",
       "    </tr>\n",
       "    <tr>\n",
       "      <th>Bermuda</th>\n",
       "      <td>North America</td>\n",
       "      <td>High income</td>\n",
       "    </tr>\n",
       "    <tr>\n",
       "      <th>Bhutan</th>\n",
       "      <td>South Asia</td>\n",
       "      <td>Lower middle income</td>\n",
       "    </tr>\n",
       "    <tr>\n",
       "      <th>Bolivia</th>\n",
       "      <td>Latin America &amp; Caribbean</td>\n",
       "      <td>Lower middle income</td>\n",
       "    </tr>\n",
       "    <tr>\n",
       "      <th>Bosnia and Herzegovina</th>\n",
       "      <td>Europe &amp; Central Asia</td>\n",
       "      <td>Upper middle income</td>\n",
       "    </tr>\n",
       "    <tr>\n",
       "      <th>Botswana</th>\n",
       "      <td>Sub-Saharan Africa</td>\n",
       "      <td>Upper middle income</td>\n",
       "    </tr>\n",
       "    <tr>\n",
       "      <th>Brazil</th>\n",
       "      <td>Latin America &amp; Caribbean</td>\n",
       "      <td>Upper middle income</td>\n",
       "    </tr>\n",
       "    <tr>\n",
       "      <th>British Virgin Islands</th>\n",
       "      <td>Latin America &amp; Caribbean</td>\n",
       "      <td>High income</td>\n",
       "    </tr>\n",
       "    <tr>\n",
       "      <th>Brunei Darussalam</th>\n",
       "      <td>East Asia &amp; Pacific</td>\n",
       "      <td>High income</td>\n",
       "    </tr>\n",
       "    <tr>\n",
       "      <th>Bulgaria</th>\n",
       "      <td>Europe &amp; Central Asia</td>\n",
       "      <td>Upper middle income</td>\n",
       "    </tr>\n",
       "    <tr>\n",
       "      <th>...</th>\n",
       "      <td>...</td>\n",
       "      <td>...</td>\n",
       "    </tr>\n",
       "    <tr>\n",
       "      <th>Sweden</th>\n",
       "      <td>Europe &amp; Central Asia</td>\n",
       "      <td>High income</td>\n",
       "    </tr>\n",
       "    <tr>\n",
       "      <th>Switzerland</th>\n",
       "      <td>Europe &amp; Central Asia</td>\n",
       "      <td>High income</td>\n",
       "    </tr>\n",
       "    <tr>\n",
       "      <th>Syrian Arab Republic</th>\n",
       "      <td>Middle East &amp; North Africa</td>\n",
       "      <td>Lower middle income</td>\n",
       "    </tr>\n",
       "    <tr>\n",
       "      <th>Tajikistan</th>\n",
       "      <td>Europe &amp; Central Asia</td>\n",
       "      <td>Lower middle income</td>\n",
       "    </tr>\n",
       "    <tr>\n",
       "      <th>Tanzania</th>\n",
       "      <td>Sub-Saharan Africa</td>\n",
       "      <td>Low income</td>\n",
       "    </tr>\n",
       "    <tr>\n",
       "      <th>Thailand</th>\n",
       "      <td>East Asia &amp; Pacific</td>\n",
       "      <td>Upper middle income</td>\n",
       "    </tr>\n",
       "    <tr>\n",
       "      <th>Timor-Leste</th>\n",
       "      <td>East Asia &amp; Pacific</td>\n",
       "      <td>Lower middle income</td>\n",
       "    </tr>\n",
       "    <tr>\n",
       "      <th>Togo</th>\n",
       "      <td>Sub-Saharan Africa</td>\n",
       "      <td>Low income</td>\n",
       "    </tr>\n",
       "    <tr>\n",
       "      <th>Tonga</th>\n",
       "      <td>East Asia &amp; Pacific</td>\n",
       "      <td>Lower middle income</td>\n",
       "    </tr>\n",
       "    <tr>\n",
       "      <th>Trinidad and Tobago</th>\n",
       "      <td>Latin America &amp; Caribbean</td>\n",
       "      <td>High income</td>\n",
       "    </tr>\n",
       "    <tr>\n",
       "      <th>Tunisia</th>\n",
       "      <td>Middle East &amp; North Africa</td>\n",
       "      <td>Lower middle income</td>\n",
       "    </tr>\n",
       "    <tr>\n",
       "      <th>Turkey</th>\n",
       "      <td>Europe &amp; Central Asia</td>\n",
       "      <td>Upper middle income</td>\n",
       "    </tr>\n",
       "    <tr>\n",
       "      <th>Turkmenistan</th>\n",
       "      <td>Europe &amp; Central Asia</td>\n",
       "      <td>Upper middle income</td>\n",
       "    </tr>\n",
       "    <tr>\n",
       "      <th>Turks and Caicos Islands</th>\n",
       "      <td>Latin America &amp; Caribbean</td>\n",
       "      <td>High income</td>\n",
       "    </tr>\n",
       "    <tr>\n",
       "      <th>Tuvalu</th>\n",
       "      <td>East Asia &amp; Pacific</td>\n",
       "      <td>Upper middle income</td>\n",
       "    </tr>\n",
       "    <tr>\n",
       "      <th>Uganda</th>\n",
       "      <td>Sub-Saharan Africa</td>\n",
       "      <td>Low income</td>\n",
       "    </tr>\n",
       "    <tr>\n",
       "      <th>Ukraine</th>\n",
       "      <td>Europe &amp; Central Asia</td>\n",
       "      <td>Lower middle income</td>\n",
       "    </tr>\n",
       "    <tr>\n",
       "      <th>United Arab Emirates</th>\n",
       "      <td>Middle East &amp; North Africa</td>\n",
       "      <td>High income</td>\n",
       "    </tr>\n",
       "    <tr>\n",
       "      <th>United Kingdom</th>\n",
       "      <td>Europe &amp; Central Asia</td>\n",
       "      <td>High income</td>\n",
       "    </tr>\n",
       "    <tr>\n",
       "      <th>United States</th>\n",
       "      <td>North America</td>\n",
       "      <td>High income</td>\n",
       "    </tr>\n",
       "    <tr>\n",
       "      <th>Uruguay</th>\n",
       "      <td>Latin America &amp; Caribbean</td>\n",
       "      <td>High income</td>\n",
       "    </tr>\n",
       "    <tr>\n",
       "      <th>Uzbekistan</th>\n",
       "      <td>Europe &amp; Central Asia</td>\n",
       "      <td>Lower middle income</td>\n",
       "    </tr>\n",
       "    <tr>\n",
       "      <th>Vanuatu</th>\n",
       "      <td>East Asia &amp; Pacific</td>\n",
       "      <td>Lower middle income</td>\n",
       "    </tr>\n",
       "    <tr>\n",
       "      <th>Venezuela, RB</th>\n",
       "      <td>Latin America &amp; Caribbean</td>\n",
       "      <td>Upper middle income</td>\n",
       "    </tr>\n",
       "    <tr>\n",
       "      <th>Vietnam</th>\n",
       "      <td>East Asia &amp; Pacific</td>\n",
       "      <td>Lower middle income</td>\n",
       "    </tr>\n",
       "    <tr>\n",
       "      <th>Virgin Islands (U.S.)</th>\n",
       "      <td>Latin America &amp; Caribbean</td>\n",
       "      <td>High income</td>\n",
       "    </tr>\n",
       "    <tr>\n",
       "      <th>West Bank and Gaza</th>\n",
       "      <td>Middle East &amp; North Africa</td>\n",
       "      <td>Lower middle income</td>\n",
       "    </tr>\n",
       "    <tr>\n",
       "      <th>Yemen, Rep.</th>\n",
       "      <td>Middle East &amp; North Africa</td>\n",
       "      <td>Lower middle income</td>\n",
       "    </tr>\n",
       "    <tr>\n",
       "      <th>Zambia</th>\n",
       "      <td>Sub-Saharan Africa</td>\n",
       "      <td>Lower middle income</td>\n",
       "    </tr>\n",
       "    <tr>\n",
       "      <th>Zimbabwe</th>\n",
       "      <td>Sub-Saharan Africa</td>\n",
       "      <td>Low income</td>\n",
       "    </tr>\n",
       "  </tbody>\n",
       "</table>\n",
       "<p>217 rows × 2 columns</p>\n",
       "</div>"
      ],
      "text/plain": [
       "                                              Region          IncomeGroup\n",
       "Country                                                                  \n",
       "Afghanistan                               South Asia           Low income\n",
       "Albania                        Europe & Central Asia  Upper middle income\n",
       "Algeria                   Middle East & North Africa  Upper middle income\n",
       "American Samoa                   East Asia & Pacific  Upper middle income\n",
       "Andorra                        Europe & Central Asia          High income\n",
       "Angola                            Sub-Saharan Africa  Upper middle income\n",
       "Antigua and Barbuda        Latin America & Caribbean          High income\n",
       "Argentina                  Latin America & Caribbean  Upper middle income\n",
       "Armenia                        Europe & Central Asia  Lower middle income\n",
       "Aruba                      Latin America & Caribbean          High income\n",
       "Australia                        East Asia & Pacific          High income\n",
       "Austria                        Europe & Central Asia          High income\n",
       "Azerbaijan                     Europe & Central Asia  Upper middle income\n",
       "Bahamas, The               Latin America & Caribbean          High income\n",
       "Bahrain                   Middle East & North Africa          High income\n",
       "Bangladesh                                South Asia  Lower middle income\n",
       "Barbados                   Latin America & Caribbean          High income\n",
       "Belarus                        Europe & Central Asia  Upper middle income\n",
       "Belgium                        Europe & Central Asia          High income\n",
       "Belize                     Latin America & Caribbean  Upper middle income\n",
       "Benin                             Sub-Saharan Africa           Low income\n",
       "Bermuda                                North America          High income\n",
       "Bhutan                                    South Asia  Lower middle income\n",
       "Bolivia                    Latin America & Caribbean  Lower middle income\n",
       "Bosnia and Herzegovina         Europe & Central Asia  Upper middle income\n",
       "Botswana                          Sub-Saharan Africa  Upper middle income\n",
       "Brazil                     Latin America & Caribbean  Upper middle income\n",
       "British Virgin Islands     Latin America & Caribbean          High income\n",
       "Brunei Darussalam                East Asia & Pacific          High income\n",
       "Bulgaria                       Europe & Central Asia  Upper middle income\n",
       "...                                              ...                  ...\n",
       "Sweden                         Europe & Central Asia          High income\n",
       "Switzerland                    Europe & Central Asia          High income\n",
       "Syrian Arab Republic      Middle East & North Africa  Lower middle income\n",
       "Tajikistan                     Europe & Central Asia  Lower middle income\n",
       "Tanzania                          Sub-Saharan Africa           Low income\n",
       "Thailand                         East Asia & Pacific  Upper middle income\n",
       "Timor-Leste                      East Asia & Pacific  Lower middle income\n",
       "Togo                              Sub-Saharan Africa           Low income\n",
       "Tonga                            East Asia & Pacific  Lower middle income\n",
       "Trinidad and Tobago        Latin America & Caribbean          High income\n",
       "Tunisia                   Middle East & North Africa  Lower middle income\n",
       "Turkey                         Europe & Central Asia  Upper middle income\n",
       "Turkmenistan                   Europe & Central Asia  Upper middle income\n",
       "Turks and Caicos Islands   Latin America & Caribbean          High income\n",
       "Tuvalu                           East Asia & Pacific  Upper middle income\n",
       "Uganda                            Sub-Saharan Africa           Low income\n",
       "Ukraine                        Europe & Central Asia  Lower middle income\n",
       "United Arab Emirates      Middle East & North Africa          High income\n",
       "United Kingdom                 Europe & Central Asia          High income\n",
       "United States                          North America          High income\n",
       "Uruguay                    Latin America & Caribbean          High income\n",
       "Uzbekistan                     Europe & Central Asia  Lower middle income\n",
       "Vanuatu                          East Asia & Pacific  Lower middle income\n",
       "Venezuela, RB              Latin America & Caribbean  Upper middle income\n",
       "Vietnam                          East Asia & Pacific  Lower middle income\n",
       "Virgin Islands (U.S.)      Latin America & Caribbean          High income\n",
       "West Bank and Gaza        Middle East & North Africa  Lower middle income\n",
       "Yemen, Rep.               Middle East & North Africa  Lower middle income\n",
       "Zambia                            Sub-Saharan Africa  Lower middle income\n",
       "Zimbabwe                          Sub-Saharan Africa           Low income\n",
       "\n",
       "[217 rows x 2 columns]"
      ]
     },
     "execution_count": 10,
     "metadata": {},
     "output_type": "execute_result"
    }
   ],
   "source": [
    "# set the name of countries as the index\n",
    "countries.set_index('Country')\n"
   ]
  },
  {
   "cell_type": "code",
   "execution_count": 11,
   "metadata": {},
   "outputs": [
    {
     "data": {
      "text/html": [
       "<div>\n",
       "<style scoped>\n",
       "    .dataframe tbody tr th:only-of-type {\n",
       "        vertical-align: middle;\n",
       "    }\n",
       "\n",
       "    .dataframe tbody tr th {\n",
       "        vertical-align: top;\n",
       "    }\n",
       "\n",
       "    .dataframe thead th {\n",
       "        text-align: right;\n",
       "    }\n",
       "</style>\n",
       "<table border=\"1\" class=\"dataframe\">\n",
       "  <thead>\n",
       "    <tr style=\"text-align: right;\">\n",
       "      <th></th>\n",
       "      <th>Country</th>\n",
       "      <th>1990</th>\n",
       "      <th>2000</th>\n",
       "      <th>2007</th>\n",
       "      <th>2008</th>\n",
       "      <th>2009</th>\n",
       "      <th>2010</th>\n",
       "      <th>2011</th>\n",
       "      <th>2012</th>\n",
       "      <th>2013</th>\n",
       "      <th>2014</th>\n",
       "      <th>2015</th>\n",
       "      <th>2016</th>\n",
       "    </tr>\n",
       "  </thead>\n",
       "  <tbody>\n",
       "    <tr>\n",
       "      <th>0</th>\n",
       "      <td>Afghanistan</td>\n",
       "      <td>0.216661</td>\n",
       "      <td>0.039272</td>\n",
       "      <td>0.087858</td>\n",
       "      <td>0.158962</td>\n",
       "      <td>0.249074</td>\n",
       "      <td>0.302936</td>\n",
       "      <td>0.425262</td>\n",
       "      <td>0.688084</td>\n",
       "      <td>0.693183</td>\n",
       "      <td>NaN</td>\n",
       "      <td>NaN</td>\n",
       "      <td>NaN</td>\n",
       "    </tr>\n",
       "    <tr>\n",
       "      <th>1</th>\n",
       "      <td>Albania</td>\n",
       "      <td>1.615624</td>\n",
       "      <td>0.978175</td>\n",
       "      <td>1.322335</td>\n",
       "      <td>1.484311</td>\n",
       "      <td>1.495600</td>\n",
       "      <td>1.578574</td>\n",
       "      <td>1.803972</td>\n",
       "      <td>1.624722</td>\n",
       "      <td>1.662185</td>\n",
       "      <td>NaN</td>\n",
       "      <td>NaN</td>\n",
       "      <td>NaN</td>\n",
       "    </tr>\n",
       "    <tr>\n",
       "      <th>2</th>\n",
       "      <td>Algeria</td>\n",
       "      <td>3.007911</td>\n",
       "      <td>2.819778</td>\n",
       "      <td>3.195865</td>\n",
       "      <td>3.168524</td>\n",
       "      <td>3.430129</td>\n",
       "      <td>3.307164</td>\n",
       "      <td>3.300558</td>\n",
       "      <td>3.471950</td>\n",
       "      <td>3.514780</td>\n",
       "      <td>NaN</td>\n",
       "      <td>NaN</td>\n",
       "      <td>NaN</td>\n",
       "    </tr>\n",
       "    <tr>\n",
       "      <th>3</th>\n",
       "      <td>American Samoa</td>\n",
       "      <td>NaN</td>\n",
       "      <td>NaN</td>\n",
       "      <td>NaN</td>\n",
       "      <td>NaN</td>\n",
       "      <td>NaN</td>\n",
       "      <td>NaN</td>\n",
       "      <td>NaN</td>\n",
       "      <td>NaN</td>\n",
       "      <td>NaN</td>\n",
       "      <td>NaN</td>\n",
       "      <td>NaN</td>\n",
       "      <td>NaN</td>\n",
       "    </tr>\n",
       "    <tr>\n",
       "      <th>4</th>\n",
       "      <td>Andorra</td>\n",
       "      <td>NaN</td>\n",
       "      <td>8.018181</td>\n",
       "      <td>6.350868</td>\n",
       "      <td>6.296125</td>\n",
       "      <td>6.049173</td>\n",
       "      <td>6.124770</td>\n",
       "      <td>5.968685</td>\n",
       "      <td>6.195194</td>\n",
       "      <td>6.473848</td>\n",
       "      <td>NaN</td>\n",
       "      <td>NaN</td>\n",
       "      <td>NaN</td>\n",
       "    </tr>\n",
       "  </tbody>\n",
       "</table>\n",
       "</div>"
      ],
      "text/plain": [
       "          Country      1990      2000      2007      2008      2009      2010  \\\n",
       "0     Afghanistan  0.216661  0.039272  0.087858  0.158962  0.249074  0.302936   \n",
       "1         Albania  1.615624  0.978175  1.322335  1.484311  1.495600  1.578574   \n",
       "2         Algeria  3.007911  2.819778  3.195865  3.168524  3.430129  3.307164   \n",
       "3  American Samoa       NaN       NaN       NaN       NaN       NaN       NaN   \n",
       "4         Andorra       NaN  8.018181  6.350868  6.296125  6.049173  6.124770   \n",
       "\n",
       "       2011      2012      2013  2014  2015  2016  \n",
       "0  0.425262  0.688084  0.693183   NaN   NaN   NaN  \n",
       "1  1.803972  1.624722  1.662185   NaN   NaN   NaN  \n",
       "2  3.300558  3.471950  3.514780   NaN   NaN   NaN  \n",
       "3       NaN       NaN       NaN   NaN   NaN   NaN  \n",
       "4  5.968685  6.195194  6.473848   NaN   NaN   NaN  "
      ]
     },
     "execution_count": 11,
     "metadata": {},
     "output_type": "execute_result"
    }
   ],
   "source": [
    "# create a new DataFrame for the CO2 emission from a csv file\n",
    "emission = pd.read_csv('data/emission.csv',encoding = 'ISO-8859-1')\n",
    "emission.head()"
   ]
  },
  {
   "cell_type": "code",
   "execution_count": null,
   "metadata": {},
   "outputs": [],
   "source": [
    "# Create a subset of emission dataset for Year 2010\n",
    "yr2010 = emission['2010']\n",
    "names  = emission['Country']\n",
    "yr2010.index = names\n",
    "type(yr2010)"
   ]
  },
  {
   "cell_type": "code",
   "execution_count": null,
   "metadata": {},
   "outputs": [],
   "source": [
    "# Sort column values using sort_values \n",
    "yr2010.sort_values()\n"
   ]
  },
  {
   "cell_type": "code",
   "execution_count": null,
   "metadata": {},
   "outputs": [],
   "source": [
    "#Sort column values to find the top countries\n",
    "yr2010.sort_values(ascending = False)"
   ]
  },
  {
   "cell_type": "markdown",
   "metadata": {},
   "source": [
    "### <span style=\"color:blue\"> Exercise 1 </span>\n",
    "\n",
    "- Retrieve the mean, median of CO2 emission generated in 2012 by all countries.\n",
    "- Retrieve the top 5 countries with the most CO2 emission in 2012. How about the 5 countries with the least emission? (remember that sort_values has an **ascending** parameter that is set to True by default).\n",
    "- Retrieve the sum of CO2 emission for all years and find the 2 years with the maximum CO2 emission.\n",
    "\n",
    "\n",
    "\n"
   ]
  },
  {
   "cell_type": "code",
   "execution_count": null,
   "metadata": {},
   "outputs": [],
   "source": [
    "##answer here\n",
    "\n"
   ]
  },
  {
   "cell_type": "markdown",
   "metadata": {},
   "source": [
    "# More Sort Operations\n",
    "Pandas allows you to sort your DataFrame by rows/columns as follows:"
   ]
  },
  {
   "cell_type": "code",
   "execution_count": null,
   "metadata": {},
   "outputs": [],
   "source": [
    "# Sort column values of a DataFrame\n",
    "sorted2012 = emission.sort_values( by = '2012',ascending = False )\n",
    "sorted2012"
   ]
  },
  {
   "cell_type": "code",
   "execution_count": null,
   "metadata": {},
   "outputs": [],
   "source": [
    "# Sort column values using two columns\n",
    "sorted2012 = emission.sort_values( by = ['2012','2013'],ascending = [False, True] )\n",
    "sorted2012"
   ]
  },
  {
   "cell_type": "markdown",
   "metadata": {},
   "source": [
    "#### Slicing using the .loc and .iloc method\n",
    "Slicing allows you to take part of your DataFrame.  You can use the .iloc method to select data using row/column numbers, or use .loc to select data using row/column headings.  See [this article](https://www.shanelynn.ie/select-pandas-dataframe-rows-and-columns-using-iloc-loc-and-ix/) for more examples"
   ]
  },
  {
   "cell_type": "code",
   "execution_count": null,
   "metadata": {},
   "outputs": [],
   "source": [
    "# Slicing using a range of rows and range of columns \n",
    "emission.iloc[2:5,2:6]"
   ]
  },
  {
   "cell_type": "code",
   "execution_count": null,
   "metadata": {},
   "outputs": [],
   "source": [
    "# Slicing using specific rows and specific columns\n",
    "emission.loc[[3,5],['Country','1990']]"
   ]
  },
  {
   "cell_type": "code",
   "execution_count": null,
   "metadata": {},
   "outputs": [],
   "source": [
    "# Specific rows and all columns\n",
    "\n",
    "emission.loc[[3,5],:]"
   ]
  },
  {
   "cell_type": "code",
   "execution_count": null,
   "metadata": {},
   "outputs": [],
   "source": [
    "# All rows and specific columns\n",
    "emission.loc[:,['Country','1990']]"
   ]
  },
  {
   "cell_type": "markdown",
   "metadata": {},
   "source": [
    "### <span style=\"color:blue\"> Exercise 2 </span>\n",
    "\n",
    "Create a DataFrame object that has the name, region and IncomeGroup of the top 10 emitting countries in 2012.\n",
    "\n",
    "\n",
    "\n",
    "\n"
   ]
  },
  {
   "cell_type": "code",
   "execution_count": null,
   "metadata": {},
   "outputs": [],
   "source": [
    "##answer here\n",
    "\n"
   ]
  },
  {
   "cell_type": "markdown",
   "metadata": {},
   "source": [
    "## Groupby\n",
    "The Groupby method lets you separate the data into different groups based off shared characteristics.  For example, we could group countries by region or income range and then analyse those groups individually.  The official documentation on groupby can be found [here](https://pandas.pydata.org/pandas-docs/stable/user_guide/groupby.html).  [This tutorial](https://www.marsja.se/python-pandas-groupby-tutorial-examples/) is also well worth reading."
   ]
  },
  {
   "cell_type": "markdown",
   "metadata": {},
   "source": [
    "#### Groupby\n",
    "<img src=\"files/images/groupby1.jpg\">"
   ]
  },
  {
   "cell_type": "markdown",
   "metadata": {
    "collapsed": true
   },
   "source": [
    "### <span style=\"color:blue\"> Exercise 3 </span>\n",
    "\n",
    "Using Countries data frame, group the rows using the Region column.\n",
    "* Show the size of each group\n",
    "* Find the number of high income and low income countries by region"
   ]
  },
  {
   "cell_type": "code",
   "execution_count": null,
   "metadata": {},
   "outputs": [],
   "source": [
    "##answer here\n",
    "\n"
   ]
  },
  {
   "cell_type": "markdown",
   "metadata": {},
   "source": [
    "# Visualization\n",
    "\n",
    "In these exercises you will:\n",
    "\n",
    "- learn how to visualize a set of data using a Python library called `matplotlib`.\n",
    "- find out different forms of visualization, such as bar charts, histograms, scatter plot, and line plot.\n",
    "- customize the visualization output; for example, by modifying axis properties or adding labels\n",
    "\n",
    "You will be able to transform a set of data into an appropriate visualization form.\n",
    "\n",
    "## Why Visualization?\n",
    "\n",
    "The power of 'preattentive perception' is the foundation of visualization. People see some things preattentively, without the need of focused attention. These visual properties can be distinguised in less than 200 millisecconds (eye movements take 200 msecs) [Healey, 2005]. What 'preattentive perception' is shall be clarified in the next example.\n",
    "\n",
    "The following example uses the maximum temperature data. The CSV-formatted data contains the average maximum temperature recorded for all major Australian cities during the period March 2007 to February 2008 (obtained from the Australian Government's [Bureau of Meteorology](http://www.bom.gov.au/climate/data/)). The data is presented below in two forms: text in a table and a multi-lines plot.\n",
    "\n",
    "city/month | Jan | Feb | Mar | Apr | May | Jun | Jul | Aug | Sep | Oct | Nov | Dec\n",
    "- | - | - | - | - | - | - | - | - | - | - | - | -\n",
    "Melbourne | 41.2 | 35.5 | 37.4 | 29.3 | 23.9 | 16.8 | 18.2 | 25.7 | 22.3 | 33.5 | 36.9 | 41.1\n",
    "Brisbane | 31.3 | 40.2 | 37.9 | 29 | 30 | 26.7 | 26.7 | 28.8 | 31.2 | 34.1 | 31.1 | 31.2\n",
    "Darwin | 34 | 34 | 33.2 | 34.5 | 34.8 | 33.9 | 32 | 34.3 | 36.1 | 35.4 | 37 | 35.5\n",
    "Perth | 41.9 | 41.5 | 42.4 | 36 | 26.9 | 24.5 | 23.8 | 24.3 | 27.6 | 30.7 | 39.8 | 44.2\n",
    "Adelaide | 42.1 | 38.1 | 39.7 | 33.5 | 26.3 | 16.5 | 21.4 | 30.4 | 30.2 | 34.9 | 37.1 | 42.2\n",
    "Canberra | 35.8 | 29.6 | 35.1 | 26.5 | 22.4 | 15.3 | 15.7 | 21.9 | 22.1 | 30.8 | 33.4 | 35\n",
    "Hobart | 35.5 | 34.1 | 30.7 | 26 | 20.9 | 15.1 | 17.5 | 21.7 | 20.9 | 24.2 | 30.1 | 33.4\n",
    "Sydney | 30.6 | 29 | 35.1 | 27.1 | 28.6 | 20.7 | 23.4 | 27.7 | 28.6 | 34.8 | 26.4 | 30.2\n",
    "\n",
    "If you have to find out from the the table, which Australian city has the highest temperature, then you have to really look through the data. Your eyes need to scan the table, scurrying all the table cells, comparing values, before you can finally answer the question.\n",
    "\n",
    "<img src=\"images/maxtemp.png\"></a>\n",
    "\n",
    "On the other hand, using the visualization of the same data (see the figure above), you can easily notice that the light blue line contains the highest temperature of the year. Thus, you can conclude that Perth, the city represented by that line, is the hottest city of the year, without really bother about the rest of the data. You can also almost instantly notice that Darwin's temperature is historically the most stable one compared to the other cities. This quick observation is hardly possible by just looking at the raw textual data. "
   ]
  },
  {
   "cell_type": "markdown",
   "metadata": {},
   "source": [
    "### <span style=\"color:blue\"> Exercise 4 </span> \n",
    "\n",
    "\n",
    "\n",
    "\n",
    "Find out the city with the lowest maximum temperature. First, try to do that with the table. Then, try to do the same using the multi-lines plot in the figure above. Find city with the most stable temperature. Do you think visualization is helpful in drawing your conclusion?\n"
   ]
  },
  {
   "cell_type": "code",
   "execution_count": null,
   "metadata": {},
   "outputs": [],
   "source": [
    "##answer here\n",
    "\n",
    "\n",
    "\n"
   ]
  },
  {
   "cell_type": "markdown",
   "metadata": {},
   "source": [
    "## Elements of Visualization\n",
    "All forms of visualization are built with some basic visual elements such as:\n",
    "\n",
    "- Location (x,y coordinate in the screen)\n",
    "- Brightness\n",
    "- Color (Hue)\n",
    "- Pattern/Texture\n",
    "- Shape\n",
    "- Line\n",
    "- Text\n",
    "\n",
    "Visualization, in principle, transforms the numerical and symbolic data into these basic visual elements. In the previous example, the cities are translated into the colors of the lines and the temperature data is used to plot the location of the lines.\n",
    "\n",
    "From those simple elements, some popular types of visualization can be built such as:\n",
    "\n",
    "- graphs, representation of a set of relationships between various entities, like family trees, network diagrams, grammar trees\n",
    "- maps, representation of a particular space (and its properties), like geographical map, brain activity map\n",
    "- charts, representation of numerical data either from a given set of real-world data or generated by mathematical functions\n",
    "\n",
    "In this worksheet, you will mostly learn to generate various types of charts: line plot (line chart), bar chart, pie chart and histogram."
   ]
  },
  {
   "cell_type": "markdown",
   "metadata": {},
   "source": [
    "## Visualization with Python\n",
    "\n",
    "`matplotlib` is a Python 2D plotting library that enables you to produce figures and charts, both in a screen or in an image file. You can use the `matplotlib`'s interactive environment to display figures in your screen if you have installations of Python and `matplotlib` in your own computer.\n",
    "\n",
    "The following example demonstrates a simple plot of the fibonacci sequence. "
   ]
  },
  {
   "cell_type": "code",
   "execution_count": null,
   "metadata": {},
   "outputs": [],
   "source": [
    "%matplotlib inline\n",
    "import matplotlib.pyplot as plt\n",
    "\n",
    "plt.plot([1,1,2,3,5,8,13]) # a plot of fibonacci sequence"
   ]
  },
  {
   "cell_type": "markdown",
   "metadata": {},
   "source": [
    "`matplotlib` allows you to produce plots, histograms, bar charts, pie charts, errorcharts, scatterplots. All these types of graphics shall be clarified as you go through the examples. matplotlib also provides flexibility in customizing those graphics. It permits you to modify the line styles, font properties, axes properties, and many other properties."
   ]
  },
  {
   "cell_type": "markdown",
   "metadata": {},
   "source": [
    "## The Structure of matplotlib\n",
    "\n",
    "The `matplotlib` is conceptually divided into three parts. The first part, matplotlib API, is the library that does the hard-work, managing and creating figures, text, lines, plots and so on. In the code above, we access this library by issuing the following command:\n",
    "\n",
    "    >>> import matplotlib\n",
    "\n",
    "The device dependent backend is the second part. It is the drawing engine that is responsible to render the visual representation to a file or a display device. Example of backends: 'PS' backend is used to create postscript file (suitable for hardcopy printout), 'SVG' creates scalar vector graphics (SVG file), 'Tkinter' on Windows provides interactive interface to the visualization. E.g. One can use the Agg backend to produce a PNG file, as displayed the example above:\n",
    "\n",
    "     >>> matplotlib.use('Agg')\n",
    "\n",
    "The `pyplot` interface is the last part of the matplotlib package. Module `pyplot` provides a set of functions that utilize the underlying matplotlib library. High level visualization functions like plot, boxplot, and bar, are available through pylab interface. To import these functions, issue the following command:\n",
    "\n",
    "    >>> import matplotlib.pyplot as plt"
   ]
  },
  {
   "cell_type": "markdown",
   "metadata": {},
   "source": [
    "## The Powerful Plot\n",
    "Plot is probably the most important function in matplotlib. Plot draws lines and/or markers using coordinates from the multiple points or x,y pairs supplied in the argument of the function. Both x and y are generally list or array of values. For example, the following command plots a simple quadratic function `y = x * x`.\n",
    "\n",
    "    >>> x = [1,2,3,4]\n",
    "    >>> y = [1,4,9,16]\n",
    "    >>> plot(x,y)\n",
    "\n",
    "A single list argument to the plot command, like `plot(y)`, would be considered as a list of y-values. matplotlib automatically generates the x-values for you. This is displayed in the next example, which plots the monthly averages of maximum temperature in Melbourne (See table in the beginning of this worksheet)."
   ]
  },
  {
   "cell_type": "code",
   "execution_count": null,
   "metadata": {},
   "outputs": [],
   "source": [
    "%matplotlib inline\n",
    "import matplotlib.pyplot as plt\n",
    "import pandas as pd\n",
    "import calendar\n",
    "\n",
    "# Melbourne maximum temperature Jan 2007 - Dec 2008\n",
    "t = [41.2,35.5,37.4,29.3,23.9,16.8,18.2,25.7,22.3,33.5,36.9,41.1]\n",
    "s=pd.Series(t)\n",
    "# print 'jan' - 'dec'\n",
    "# calendar.month_abbr returns an empty string for the first element\n",
    "plt.xticks(range(12),list(calendar.month_abbr)[1:])\n",
    "plt.plot(s)\n",
    "#plt.show()\n",
    "#plt.clf()\n",
    "#plt.plot(s*2)"
   ]
  },
  {
   "cell_type": "markdown",
   "metadata": {},
   "source": [
    "`xticks()` is used to annotate the ticks in the x-axis. You need to supply `xticks()` with a list of x-values and a list of text that go with those values. \n",
    "\n",
    "**Note:** In shell script mode, everytime you issue `plot()` command, the output is added to the results of the earlier `plot()`. The `clf()` function can be called to empty the canvas. \n",
    "\n",
    "The plot function is also commonly used to plot mathematical and scientific formula, shown below."
   ]
  },
  {
   "cell_type": "code",
   "execution_count": null,
   "metadata": {},
   "outputs": [],
   "source": [
    "%matplotlib inline\n",
    "from pylab import *\n",
    "\n",
    "\n",
    "def f(t):\n",
    "    return cos(2*pi*t)*log(1+t)\n",
    "\n",
    "precision = 0.1 # \n",
    "t = arange(0.0, 5.0, precision)\n",
    "plot(t,f(t),'m')  #'m'is magenta colour"
   ]
  },
  {
   "cell_type": "markdown",
   "metadata": {},
   "source": [
    "### <span style=\"color:blue\"> Exercise 5 </span> \n",
    "\n",
    "\n",
    "Modify the example on Melbourne's maximum temperature to display Sydney's maximum temperature from April 2007 to November 2007. Have you code load in the temperature data from [this file](data/max_temp.csv)\n"
   ]
  },
  {
   "cell_type": "code",
   "execution_count": null,
   "metadata": {},
   "outputs": [],
   "source": [
    "##answer here\n",
    "\n",
    "\n",
    "\n"
   ]
  },
  {
   "cell_type": "markdown",
   "metadata": {},
   "source": [
    "### <span style=\"color:blue\"> Exercise 6 </span> \n",
    "\n",
    "In the mathematical formula example, change the definition of f(t) to sin(2*pi*t)*exp(-t), play around with the variable precision, too. Observe the impact of the changes to the result."
   ]
  },
  {
   "cell_type": "code",
   "execution_count": null,
   "metadata": {},
   "outputs": [],
   "source": [
    "##answer here\n",
    "\n",
    "\n",
    "\n"
   ]
  },
  {
   "cell_type": "markdown",
   "metadata": {},
   "source": [
    "## Plot line properties\n",
    "\n",
    "You can supply an optional argument to customize the color and the linestyle of plot output. For example, to plot with red circles, you would issue `plot([1,2,3,4],'ro')`. `'r'` represents red color and `'o'` refers to circle-shaped marker. `plot([1,2,3,4],'bs:')` draws blue dotted line with square marker. The line color, the linestyle, and the marker type are respectively given by `'b'`,`':'`, and `'s'`. Select your preferred color from a set of matplotlib colors. The choices for linestyle and marker can be seen in the table below.\n",
    "\n",
    "**Line properties**\n",
    "\n",
    "Property | Values\n",
    "- | -\n",
    "alpha | The alpha transparency on 0-1 scale\n",
    "antialiased | True or False - use antialiased rendering\n",
    "color | a matplotlib color arg\n",
    "label | a string optionally used for legend\n",
    "linestyle | One of -- : -. -\n",
    "linewidth | a float, the line width in points\n",
    "marker | One of + , o . s v x > < ^\n",
    "markeredgewidth | The line width around the marker symbol\n",
    "markeredgecolor | The edge color if a marker is used\n",
    "markerfacecolor | The face color if a marker is used\n",
    "markersize | The size of the marker in points\n",
    "\n",
    "There are other methods to set plot line properties. First, you can use keyword arguments listed in the table above. For example:\n",
    "\n",
    "    >>> plot(x, y, linewidth=3.0)\n",
    "\n",
    "Second method uses `setp()` command. Shown below, `setp()` allows you to modify multiple properties of a collection of lines.\n",
    "\n",
    "    >>> lines = plot(x1, y1, x2, y2)\n",
    "    >>> setp(lines, color='b', linewidth=4.0)\n",
    "\n",
    "`plot()` may return a list of lines; eg line1,line2 = plot(x1,y1,x2,x2). Third method utilizes various set functions on the lines returned by a plot command. The list of the set functions are available [here](http://matplotlib.org/api/lines_api.html).\n",
    "\n",
    "    >>> line1,line2 = plot(x1, y1, x2, y2)\n",
    "    >>> line1.set_antialiased(False) # turn off antialising on the first line\n",
    "\n",
    "The use of those three methods are demonstrated in the following example:"
   ]
  },
  {
   "cell_type": "code",
   "execution_count": null,
   "metadata": {},
   "outputs": [],
   "source": [
    "%matplotlib inline\n",
    "import matplotlib.pyplot as plt\n",
    "import numpy as np\n",
    "\n",
    "t = np.arange(0.0, 2.05, 0.05)\n",
    "\n",
    "# method 1: keyword arguments\n",
    "plt.plot(t, sin(t*10), 'k-', linewidth=3.0)\n",
    "# plot a solid black line with thickness=3\n",
    "\n",
    "# method 2: setp command\n",
    "lines = plt.plot(t, [4 for i in t], t, 4*t)\n",
    "plt.setp(lines, 'color', 'r' )\n",
    "plt.setp(lines, 'linestyle', ':' )\n",
    "# plot two red dotted lines\n",
    "\n",
    "# method 3: setp command\n",
    "line1,line2 = plt.plot(t, t**2, t, exp(t))\n",
    "line1.set_marker('s')\n",
    "line1.set_color('g')\n",
    "line2.set_marker('^')\n",
    "line2.set_color('b')\n",
    "# plot two lines\n",
    "# first line is drawn with green square marker\n",
    "# second line is drawn with blue triangle marker"
   ]
  },
  {
   "cell_type": "markdown",
   "metadata": {},
   "source": [
    "Note: As you can see in the result of the example above, the output of multiple plot commands are accumulated. You can use clf() if you like to start with a blank slate."
   ]
  },
  {
   "cell_type": "markdown",
   "metadata": {},
   "source": [
    "### <span style=\"color:blue\"> Exercise 7 </span> \n",
    "\n",
    "\n",
    "Modify the example on Melbourne maximum temperature in the previous section to produce a plot with magenta colored triangle marker. Increase the thickness of the plot line, too.\n"
   ]
  },
  {
   "cell_type": "code",
   "execution_count": null,
   "metadata": {},
   "outputs": [],
   "source": [
    "##answer here\n",
    "\n",
    "\n",
    "\n",
    "\n"
   ]
  },
  {
   "cell_type": "markdown",
   "metadata": {},
   "source": [
    "## Adding Text to the Charts\n",
    "\n",
    "You can add labels to the x and y axis of the plot using `xlabel()` and `ylabel()`. As you have seen and used earlier, `xticks()` is used to put text on the x-axis ticks. `xticks()` needs two arguments: a list of x-values and a list of text that go to those values. The same rules apply to `yticks()`."
   ]
  },
  {
   "cell_type": "markdown",
   "metadata": {},
   "source": [
    "### <span style=\"color:blue\"> Exercise 8 </span> \n",
    "\n",
    "\n",
    "Add the following lines of code to the example on Melbourne maximum temperature. Replace the `xticks()` command with the supplied code. Run to see the effect.\n",
    "\n",
    "\n",
    "    >>> xticks( arange(12), list(calendar.month_abbr)[1:], rotation=40 )\n",
    "    >>> ylabel(\"temperature in celcius\", fontsize=14)\n",
    "    >>> xlabel(\"months\", fontsize=14)\n",
    "    >>> title(\"Melbourne maximum temperature (Dec 07 - Feb 08)\", fontsize=18)"
   ]
  },
  {
   "cell_type": "code",
   "execution_count": null,
   "metadata": {},
   "outputs": [],
   "source": [
    "##answer here\n",
    "\n",
    "\n",
    "\n"
   ]
  },
  {
   "cell_type": "markdown",
   "metadata": {},
   "source": [
    "As apparent in the code above, you can supply additional arguments to change the properties of the text. The options for these properties are available in the table below:\n",
    "\n",
    "Property | Values\n",
    "- | -\n",
    "alpha | The alpha transparency on 0-1 scale\n",
    "color | a matplotlib color argument\n",
    "fontangle | italic &#124; normal &#124; oblique\n",
    "fontname | Sans &#124; Helvetica &#124; Courier &#124; Times &#124; Others\n",
    "fontsize | an scalar, eg, 10\n",
    "fontweight | normal &#124; bold &#124; light &#124; 4\n",
    "horizontalalignment | left &#124; center &#124; right\n",
    "rotation | horizontal &#124; vertical\n",
    "verticalalignment | bottom &#124; center &#124; top\n",
    "\n",
    "You can also attach a legend for the output using the `legend()` command to describe each line produced by `plot()`. You need to supply a list of text to describe the respective lines. See the example in the scatter plot section below.\n",
    "\n",
    "    >>> legend(all_species,loc='lower right')"
   ]
  },
  {
   "cell_type": "markdown",
   "metadata": {},
   "source": [
    "## Customizing your graphic\n",
    "You can customize your plot result further by using the following commands:\n",
    "\n",
    "- `xlim()` to set the range of the x axis, for example `xlim(0,10)`\n",
    "- `ylim()` to set the range of the y axis, for example `ylim(-1,1)`\n",
    "- `axis()` command to do both at the same time. The two commands above is equivalent to axis([0,10,-1,1])\n",
    "- `grid(True)` to turn on the grid, or `grid(False)` to do otherwise"
   ]
  },
  {
   "cell_type": "markdown",
   "metadata": {},
   "source": [
    "## Scatter plot\n",
    "\n",
    "With real world data, `plot()` function can be used to generate time series and scatter plots.\n",
    "\n",
    "Scatter plot is often used to display the relationship between two variables (plot as x-y pairs). In this scatter plot example, we use [famous Iris data set](http://en.wikipedia.org/wiki/Iris_flower_data_set). The data is available [here](data/iris.csv). This data set provides measurements on various parts of three types of Iris flower (Iris setosa, Iris versicolour, and Iris virginica). For each type, there are 50 measurements, or samples. Each data row in the CSV file contains (1) sepal length, (2) sepal width, (3) petal length, (4) petal width, and (5) the type of Iris flower.\n",
    "\n",
    "The following code generates the scatter plot between petal length and petal width of the three Iris types."
   ]
  },
  {
   "cell_type": "code",
   "execution_count": null,
   "metadata": {},
   "outputs": [],
   "source": [
    "%matplotlib inline\n",
    "import pandas as pd\n",
    "import matplotlib.pyplot as plt\n",
    "\n",
    "iris=pd.read_csv('data/iris.csv',encoding = 'ISO-8859-1',header=None)\n",
    "setosa=iris.loc[iris[4]=='Iris-setosa']\n",
    "versicolor=iris.loc[iris[4]=='Iris-versicolor']\n",
    "virginica=iris.loc[iris[4]=='Iris-virginica']\n",
    "\n",
    "\n",
    "plt.scatter(setosa.iloc[:,2],setosa.iloc[:,3],color='green')\n",
    "plt.scatter(versicolor.iloc[:,2],versicolor.iloc[:,3],color='red')\n",
    "plt.scatter(virginica.iloc[:,2],virginica.iloc[:,3],color='blue')\n",
    "plt.xlim(0.5,7.5)\n",
    "plt.ylim(0,3)\n",
    "plt.ylabel(\"petal width\")\n",
    "plt.xlabel(\"petal length\")\n",
    "plt.grid(True)\n",
    "\n"
   ]
  },
  {
   "cell_type": "markdown",
   "metadata": {},
   "source": [
    "From the scatter plot, we may be able to suggest a particular type of relationship or a formation of clusters. In the example above you may notice that, for Iris versicolor, the samples with longer petal tend to have wider petal. You can also see clearly that there exist clusters of these three Irises. As such, the measurements of petal and sepal can help identifying the type of Iris flower. This example demonstrates how botanists may indentify a certain species from phenotype characteristics."
   ]
  },
  {
   "cell_type": "markdown",
   "metadata": {},
   "source": [
    "### <span style=\"color:blue\"> Exercise 9 </span> \n",
    "\n",
    "\n",
    "Modify the example above to generate the scatter plot of petal length and sepal length.\n"
   ]
  },
  {
   "cell_type": "code",
   "execution_count": null,
   "metadata": {},
   "outputs": [],
   "source": [
    "##answer here\n",
    "\n",
    "\n",
    "\n"
   ]
  },
  {
   "cell_type": "markdown",
   "metadata": {},
   "source": [
    "## Bar chart\n",
    "\n",
    "Bar chart is probably the most common type of chart. It displays a property or properties of a set of different entities. Bar chart is typically used to provide comparison, or to show contrast between different entities. For example, the bar chart below displays the GNP per capita of the three poorest and the three richest countries in the world (based on 2004 GNP per capita):"
   ]
  },
  {
   "cell_type": "code",
   "execution_count": null,
   "metadata": {},
   "outputs": [],
   "source": [
    "%matplotlib inline\n",
    "import matplotlib.pyplot as plt\n",
    "import calendar\n",
    "from numpy import arange\n",
    "\n",
    "countries = ['Burundi','Ethiopia','Rep of Congo','Switzerland','Norway','Luxembourg']\n",
    "gnp = [90,110,110,49600,51810,56380] # GNP per capita (2004)\n",
    "plt.bar(arange(len(gnp)),gnp)\n",
    "plt.xticks( arange(len(countries)),countries, rotation=30)\n",
    "plt.show()"
   ]
  },
  {
   "cell_type": "markdown",
   "metadata": {},
   "source": [
    "### <span style=\"color:blue\"> Exercise 10 </span> \n",
    "\n",
    "\n",
    "Modify the bar chart example to plot the average maximum temperature in all major Australian cities. The data is available [here](data/max_temp.csv). \n"
   ]
  },
  {
   "cell_type": "code",
   "execution_count": null,
   "metadata": {},
   "outputs": [],
   "source": [
    "##answer here\n",
    "\n",
    "\n",
    "\n"
   ]
  },
  {
   "cell_type": "markdown",
   "metadata": {},
   "source": [
    "In a clustered bar chart, you can display a few measurements from the entities of interest. For example, the clustered bar chart below simultaneously shows the number of births and deaths in four countries of interest. The number of births is displayed as the blue-colored bar and the number of deaths as the red-colored bar:"
   ]
  },
  {
   "cell_type": "code",
   "execution_count": null,
   "metadata": {},
   "outputs": [],
   "source": [
    "%matplotlib inline\n",
    "import matplotlib.pyplot as plt\n",
    "import calendar\n",
    "from numpy import arange\n",
    "\n",
    "countries = ['Afghanistan', 'Albania', 'Algeria', 'Angola']\n",
    "births = [1143717, 53367, 598519, 498887]\n",
    "deaths = [529623, 16474, 144694, 285380]\n",
    "plt.bar(arange(len(births))-0.3, births, width=0.3)\n",
    "plt.bar(arange(len(deaths)),deaths, width=0.3,color='r')\n",
    "plt.xticks(arange(len(countries)),countries, rotation=30)"
   ]
  },
  {
   "cell_type": "markdown",
   "metadata": {},
   "source": [
    "## Histogram\n",
    "\n",
    "Histogram displays a distribution of population samples (typically a large set of data like digital images or age of population). The following example creates a histogram of age within a small number of samples (assumes these are the age of your classmates)."
   ]
  },
  {
   "cell_type": "code",
   "execution_count": null,
   "metadata": {},
   "outputs": [],
   "source": [
    "%matplotlib inline\n",
    "import matplotlib.pyplot as plt\n",
    "\n",
    "\n",
    "ages = [17,18,18,19,21,19,19,21,20,23,19,22,20,21,19,19,14,23,16,17]\n",
    "plt.hist(ages, bins=10)\n",
    "plt.grid(which='major', axis='y')\n",
    "plt.show()"
   ]
  },
  {
   "cell_type": "code",
   "execution_count": null,
   "metadata": {},
   "outputs": [],
   "source": []
  }
 ],
 "metadata": {
  "kernelspec": {
   "display_name": "Python 3",
   "language": "python",
   "name": "python3"
  },
  "language_info": {
   "codemirror_mode": {
    "name": "ipython",
    "version": 3
   },
   "file_extension": ".py",
   "mimetype": "text/x-python",
   "name": "python",
   "nbconvert_exporter": "python",
   "pygments_lexer": "ipython3",
   "version": "3.6.7"
  },
  "latex_envs": {
   "LaTeX_envs_menu_present": true,
   "autocomplete": true,
   "bibliofile": "biblio.bib",
   "cite_by": "apalike",
   "current_citInitial": 1,
   "eqLabelWithNumbers": true,
   "eqNumInitial": 1,
   "hotkeys": {
    "equation": "Ctrl-E",
    "itemize": "Ctrl-I"
   },
   "labels_anchors": false,
   "latex_user_defs": false,
   "report_style_numbering": false,
   "user_envs_cfg": false
  }
 },
 "nbformat": 4,
 "nbformat_minor": 2
}
