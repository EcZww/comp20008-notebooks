{
 "cells": [
  {
   "cell_type": "markdown",
   "metadata": {},
   "source": [
    "# Elements Of Data Processing - Revision\n",
    "\n",
    "## Getting Started with Jupyter Notebook\n",
    "Jupyter notebook is an extremely useful tool for developing and presenting projects (particularly in python).  You can include code segments and view their output directly in your browser.  You can also add rich text, visualisations, equations and more.\n",
    "\n",
    "## Cells\n",
    "Jupyter notebook contains two main types of cells:\n",
    "- Markdown cells: These can be used to contain text, equations and other non-code items.  The cell that you're reading right now is a markdown cell.  You can use [Markdown](https://www.markdownguide.org/) to format your text.  If you prefer, you can also format your text using <b>HTML</b>.  Clicking the **Run** button will format and display your text.\n",
    "- Code cells: These contain code segments that can be executed individually.  When executed, the output of the code will be displayed below the code cell.  Click the **Run** button to execute a code segment.  You can also run a code segment by pressing `Ctrl + Enter`"
   ]
  },
  {
   "cell_type": "markdown",
   "metadata": {},
   "source": [
    "## Running Code\n",
    "Try running the code segments below and verify that the output is correct."
   ]
  },
  {
   "cell_type": "code",
   "execution_count": null,
   "metadata": {},
   "outputs": [],
   "source": [
    "message=\"hello world\"\n",
    "print(message)"
   ]
  },
  {
   "cell_type": "code",
   "execution_count": null,
   "metadata": {},
   "outputs": [],
   "source": [
    "for i in range(5):\n",
    "    print(str(i) + \" squared is \" + str(i*i))"
   ]
  },
  {
   "cell_type": "markdown",
   "metadata": {},
   "source": [
    "Variables are retained between code segments.  You can, for example, refer the message variable created in the code segment above"
   ]
  },
  {
   "cell_type": "code",
   "execution_count": null,
   "metadata": {},
   "outputs": [],
   "source": [
    "print(\"The COMP20008 team wishes to say: \" + message)"
   ]
  },
  {
   "cell_type": "markdown",
   "metadata": {},
   "source": [
    "Try adding your own code cell below and use it to print a different message.  "
   ]
  },
  {
   "cell_type": "markdown",
   "metadata": {},
   "source": [
    "## Errors\n",
    "If your code contains any errors, the error message will be displayed underneath the code segment once it's run.  This helps you identify the problem and debug the code.  Try fixing the code below:"
   ]
  },
  {
   "cell_type": "code",
   "execution_count": null,
   "metadata": {},
   "outputs": [],
   "source": [
    "print(Welcome to COMP20008)\n",
    "Print('We're glad you've chosen this subject')\n",
    "students=30\n",
    "if students>25\n",
    "    print('This is a big class!')"
   ]
  },
  {
   "cell_type": "markdown",
   "metadata": {},
   "source": [
    "### Exercise 1\n",
    "Create a new code cell below this one using the Insert menu.  Write a Python program that will print the first $n$ numbers of the Fibonacci sequence in **reverse** order.  Verify it works for $n=10$"
   ]
  },
  {
   "cell_type": "markdown",
   "metadata": {},
   "source": [
    "### Exercise 2\n",
    "The following two exercises are about getting used to running python through a shell. The program for these exercises is a simple hello world program.\n",
    "1. Open a new terminal using the plus button above the file browser or File → New Launcher.\n",
    "2. Use `ls` to show the contents of the folder you're in.\n",
    "3. Use `cd workshops` to change into the workshops folder, followed by `cd revision` to change to the current folder.\n",
    "4. Run `python exercise2.py` to execute the script exercise3.py in python. Your output should be the same as the output of the next cell."
   ]
  },
  {
   "cell_type": "code",
   "execution_count": null,
   "metadata": {},
   "outputs": [],
   "source": [
    "import os\n",
    "print(os.popen('python exercise2.py').read())"
   ]
  },
  {
   "cell_type": "markdown",
   "metadata": {},
   "source": [
    "### Exercise 4\n",
    "Take your code from Exercise 1 and store it in a new file, exercise4.py. Run this similarly to Exercise 3. You can create a new file through the launcher by clicking on the New Text File button, or by running `touch exercise4.py` in the terminal. Your output should be the same as Exercise 1. Remember that files are case sensitive, so Exercise4.py is not the same as exercise3.py."
   ]
  },
  {
   "cell_type": "code",
   "execution_count": null,
   "metadata": {},
   "outputs": [],
   "source": [
    "import os\n",
    "print(os.popen('python exercise3.py').read())"
   ]
  },
  {
   "cell_type": "markdown",
   "metadata": {},
   "source": [
    "## Recommended Reading:\n",
    "[This article on Dataquest](https://www.dataquest.io/blog/jupyter-notebook-tutorial/) is an excellent introduction to Jupyter notebook.  If you haven't used Jupyter notebook before, I recommend familiarising yourself with it."
   ]
  }
 ],
 "metadata": {
  "kernelspec": {
   "display_name": "Python 3",
   "language": "python",
   "name": "python3"
  },
  "language_info": {
   "codemirror_mode": {
    "name": "ipython",
    "version": 3
   },
   "file_extension": ".py",
   "mimetype": "text/x-python",
   "name": "python",
   "nbconvert_exporter": "python",
   "pygments_lexer": "ipython3",
   "version": "3.7.3"
  }
 },
 "nbformat": 4,
 "nbformat_minor": 4
}
