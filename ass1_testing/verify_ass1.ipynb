{
 "cells": [
  {
   "cell_type": "markdown",
   "metadata": {},
   "source": [
    "# Assignment 1 Verification Script\n",
    "This script verifies your solution has the expected form for Assignment 1.\n",
    "\n",
    "This assumes your program lies in a folder called submission."
   ]
  },
  {
   "cell_type": "code",
   "execution_count": null,
   "metadata": {},
   "outputs": [],
   "source": [
    "import subprocess\n",
    "from IPython.core.display import display, HTML\n",
    "import html\n",
    "\n",
    "display(HTML('<span style=\"color:blue\">Running your program</span>'))\n",
    "subprocess.run(['/bin/bash', '-c', 'chmod 777 ./run_ass1.sh'])\n",
    "run_program = subprocess.Popen(['/bin/bash', './run_ass1.sh'], \n",
    "                               stdout=subprocess.PIPE, stderr=subprocess.PIPE)\n",
    "\n",
    "print(\" - Output - \")\n",
    "print(run_program.stdout.read().decode())\n",
    "print(\" - Errors - \")\n",
    "error_text = run_program.stderr.read().decode()\n",
    "if not error_text or len(error_text) <= 1:\n",
    "    error_text = \"No execution errors!\"\n",
    "    display(HTML('<span style=\"color:green\">{}</span>'.format(html.escape(error_text).replace(\"\\n\",\"<br>\"))))\n",
    "else:\n",
    "    display(HTML('<span style=\"color:red\">{}</span>'.format(html.escape(error_text).replace(\"\\n\",\"<br>\"))))\n",
    "print(\" ---------- \")\n",
    "print(\"\")\n",
    "display(HTML('<span style=\"color:blue\">Checking your output</span>'))\n",
    "verify_program = subprocess.Popen(['bash', '-c', 'cd submission && python ../verify_ass1.py'], \n",
    "                                  stdout=subprocess.PIPE, stderr=subprocess.PIPE)\n",
    "print(\" - Output - \")\n",
    "print(verify_program.stdout.read().decode())\n",
    "print(\" - Errors - \")\n",
    "error_text = verify_program.stderr.read().decode()\n",
    "if not error_text:\n",
    "    error_text = \"No execution errors!\"\n",
    "    display(HTML('<span style=\"color:green\">{}</span>'.format(html.escape(error_text).replace(\"\\n\",\"<br>\"))))\n",
    "else:\n",
    "    display(HTML('<span style=\"color:red\">{}</span>'.format(html.escape(error_text).replace(\"\\n\",\"<br>\"))))\n",
    "print(\" ---------- \")"
   ]
  },
  {
   "cell_type": "markdown",
   "metadata": {},
   "source": [
    "### Cleanup\n",
    "This code snippet removes the files that are created during testing to give you a clean test."
   ]
  },
  {
   "cell_type": "code",
   "execution_count": null,
   "metadata": {},
   "outputs": [],
   "source": [
    "import subprocess\n",
    "cleanup = subprocess.Popen(['rm', '-f', 'submission/task1.csv', 'submission/task2.csv', 'submission/task3.csv', 'submission/task4.png', 'submission/task5.png', 'submission/stderr.txt', 'submission/rugby.json'],\n",
    "                           stdout=subprocess.PIPE, stderr=subprocess.PIPE)\n",
    "print(\" - Output - \")\n",
    "print(cleanup.stdout.read().decode())\n",
    "print(\" - Errors - \")\n",
    "error_text = cleanup.stderr.read().decode()\n",
    "if not error_text:\n",
    "    error_text = \"No execution errors!\"\n",
    "    display(HTML('<span style=\"color:green\">{}</span>'.format(html.escape(error_text).replace(\"\\n\",\"<br>\"))))\n",
    "else:\n",
    "    display(HTML('<span style=\"color:red\">{}</span>'.format(html.escape(error_text).replace(\"\\n\",\"<br>\"))))\n",
    "print(\" ---------- \")"
   ]
  }
 ],
 "metadata": {
  "kernelspec": {
   "display_name": "Python 3",
   "language": "python",
   "name": "python3"
  },
  "language_info": {
   "codemirror_mode": {
    "name": "ipython",
    "version": 3
   },
   "file_extension": ".py",
   "mimetype": "text/x-python",
   "name": "python",
   "nbconvert_exporter": "python",
   "pygments_lexer": "ipython3",
   "version": "3.7.4"
  }
 },
 "nbformat": 4,
 "nbformat_minor": 4
}
