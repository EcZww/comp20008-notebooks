{
 "cells": [
  {
   "cell_type": "markdown",
   "metadata": {},
   "source": [
    "# Assignment 2 Task 1b Verification Script\n",
    "This script verifies your solution for task 1b of Assignment 2.\n",
    "\n",
    "This assumes your program lies in a folder called submission."
   ]
  },
  {
   "cell_type": "code",
   "execution_count": null,
   "metadata": {},
   "outputs": [],
   "source": [
    "import subprocess\n",
    "program = subprocess.Popen(['python', 'verify_ass2_1b.py'], \n",
    "                           stdout=subprocess.PIPE, stderr=subprocess.PIPE)\n",
    "print(\" - Output - \")\n",
    "print(program.stdout.read().decode())\n",
    "print(\" - Errors - \")\n",
    "error_text = program.stderr.read().decode()\n",
    "if not error_text:\n",
    "    error_text = \"No execution errors!\"\n",
    "print(error_text)\n",
    "print(\" ---------- \")"
   ]
  },
  {
   "cell_type": "markdown",
   "metadata": {},
   "source": [
    "### Cleanup\n",
    "This code snippet removes task1a.csv to clean up your current directory."
   ]
  },
  {
   "cell_type": "code",
   "execution_count": null,
   "metadata": {},
   "outputs": [],
   "source": [
    "import subprocess\n",
    "cleanup = subprocess.Popen(['rm', 'amazon_blocks.csv'],\n",
    "                           stdout=subprocess.PIPE, stderr=subprocess.PIPE)\n",
    "print(\" - Output - \")\n",
    "print(cleanup.stdout.read().decode())\n",
    "print(\" - Errors - \")\n",
    "print(cleanup.stderr.read().decode())\n",
    "print(\" ---------- \")\n",
    "\n",
    "cleanup = subprocess.Popen(['rm', 'google_blocks.csv'],\n",
    "                           stdout=subprocess.PIPE, stderr=subprocess.PIPE)\n",
    "print(\" - Output - \")\n",
    "print(cleanup.stdout.read().decode())\n",
    "print(\" - Errors - \")\n",
    "print(cleanup.stderr.read().decode())\n",
    "print(\" ---------- \")"
   ]
  }
 ],
 "metadata": {
  "kernelspec": {
   "display_name": "Python 3",
   "language": "python",
   "name": "python3"
  },
  "language_info": {
   "codemirror_mode": {
    "name": "ipython",
    "version": 3
   },
   "file_extension": ".py",
   "mimetype": "text/x-python",
   "name": "python",
   "nbconvert_exporter": "python",
   "pygments_lexer": "ipython3",
   "version": "3.7.4"
  }
 },
 "nbformat": 4,
 "nbformat_minor": 4
}
