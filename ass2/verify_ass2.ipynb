{
 "cells": [
  {
   "cell_type": "markdown",
   "metadata": {},
   "source": [
    "# Assignment 2 Verification Script\n",
    "This script verifies your solution for Assignment 2, running all the task verification scripts in a row.\n",
    "\n",
    "This assumes your program lies in a folder called submission."
   ]
  },
  {
   "cell_type": "code",
   "execution_count": null,
   "metadata": {},
   "outputs": [],
   "source": [
    "import subprocess\n",
    "for script in ['verify_ass2_1a.py', 'verify_ass2_1b.py', 'verify_ass2_2a.py', 'verify_ass2_2b.py']:\n",
    "    print(\"Running script {}\".format(script))\n",
    "    program = subprocess.Popen(['python', script], \n",
    "                               stdout=subprocess.PIPE, stderr=subprocess.PIPE)\n",
    "    print(\" - Output - \")\n",
    "    print(program.stdout.read().decode())\n",
    "    print(\" - Errors - \")\n",
    "    error_text = program.stderr.read().decode()\n",
    "    if not error_text:\n",
    "        error_text = \"No execution errors!\"\n",
    "    print(error_text)\n",
    "    print(\" ---------- \")"
   ]
  }
 ],
 "metadata": {
  "kernelspec": {
   "display_name": "Python 3",
   "language": "python",
   "name": "python3"
  },
  "language_info": {
   "codemirror_mode": {
    "name": "ipython",
    "version": 3
   },
   "file_extension": ".py",
   "mimetype": "text/x-python",
   "name": "python",
   "nbconvert_exporter": "python",
   "pygments_lexer": "ipython3",
   "version": "3.7.4"
  }
 },
 "nbformat": 4,
 "nbformat_minor": 4
}
