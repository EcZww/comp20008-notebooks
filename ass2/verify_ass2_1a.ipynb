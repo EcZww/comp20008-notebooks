{
 "cells": [
  {
   "cell_type": "markdown",
   "metadata": {},
   "source": [
    "# Assignment 2 Task 1a Verification Script\n",
    "This script verifies your solution for task 1a of Assignment 2.\n",
    "\n",
    "This assumes your program lies in a folder called submission."
   ]
  },
  {
   "cell_type": "code",
   "execution_count": 85,
   "metadata": {},
   "outputs": [
    {
     "name": "stdout",
     "output_type": "stream",
     "text": [
      " - Output - \n",
      "[ 2020-05-11 00:44:03.593463 ] Running program (submission/task1a.py)\n",
      "[ 2020-05-11 00:44:03.597010 ] Program output stream:\n",
      "Dummy output\n",
      "\n",
      "[ 2020-05-11 00:44:03.623211 ] Program error stream:\n",
      "\n",
      "[ 2020-05-11 00:44:03.623257 ] Program took 0.003496 seconds to run.\n",
      "[ 2020-05-11 00:44:03.623267 ] Loading task1a.csv\n",
      "[ 2020-05-11 00:44:03.628039 ] Loaded task1a.csv\n",
      "[ 2020-05-11 00:44:03.628276 ] Loading amazon_google_truth_small.csv\n",
      "[ 2020-05-11 00:44:03.630512 ] Loaded amazon_google_truth_small.csv\n",
      "[ 2020-05-11 00:44:03.630526 ] Running basic checking for task1a.csv\n",
      "[ 2020-05-11 00:44:03.647303 ] Calculating statistics for linkage.\n",
      "[ 2020-05-11 00:44:03.647319 ] Loading amazon_small.csv and google_small.csv for extra statistics.\n",
      "[ 2020-05-11 00:44:03.655011 ] Results:\n",
      "\tRecall: 0\n",
      "\tPrecision: 0\n",
      "[ 2020-05-11 00:44:03.655028 ] Extra Statistics:\n",
      "\tTrue Positive Count: 0\n",
      "\tFalse Positive Count: 0\n",
      "\tFalse Negative Count: 130\n",
      "\tTrue Negative Count: 22070\n",
      "[ 2020-05-11 00:44:03.655036 ] Script complete.\n",
      "\n",
      " - Errors - \n",
      "No execution errors!\n",
      " ---------- \n"
     ]
    }
   ],
   "source": [
    "import subprocess\n",
    "program = subprocess.Popen(['python', 'verify_ass2_1a.py'], \n",
    "                           stdout=subprocess.PIPE, stderr=subprocess.PIPE)\n",
    "print(\" - Output - \")\n",
    "print(program.stdout.read().decode())\n",
    "print(\" - Errors - \")\n",
    "error_text = program.stderr.read().decode()\n",
    "if not error_text:\n",
    "    error_text = \"No execution errors!\"\n",
    "print(error_text)\n",
    "print(\" ---------- \")"
   ]
  },
  {
   "cell_type": "markdown",
   "metadata": {},
   "source": [
    "### Cleanup\n",
    "This code snippet removes task1a.csv to clean up your current directory."
   ]
  },
  {
   "cell_type": "code",
   "execution_count": null,
   "metadata": {},
   "outputs": [],
   "source": [
    "import subprocess\n",
    "cleanup = subprocess.Popen(['rm', 'task1a.csv'],\n",
    "                           stdout=subprocess.PIPE, stderr=subprocess.PIPE)\n",
    "print(\" - Output - \")\n",
    "print(cleanup.stdout.read().decode())\n",
    "print(\" - Errors - \")\n",
    "print(cleanup.stderr.read().decode())\n",
    "print(\" ---------- \")"
   ]
  }
 ],
 "metadata": {
  "kernelspec": {
   "display_name": "Python 3",
   "language": "python",
   "name": "python3"
  },
  "language_info": {
   "codemirror_mode": {
    "name": "ipython",
    "version": 3
   },
   "file_extension": ".py",
   "mimetype": "text/x-python",
   "name": "python",
   "nbconvert_exporter": "python",
   "pygments_lexer": "ipython3",
   "version": "3.7.4"
  }
 },
 "nbformat": 4,
 "nbformat_minor": 4
}
