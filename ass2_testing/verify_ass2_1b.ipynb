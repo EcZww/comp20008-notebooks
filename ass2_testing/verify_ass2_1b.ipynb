{
 "cells": [
  {
   "cell_type": "markdown",
   "metadata": {},
   "source": [
    "# Assignment 2 Task 1b Verification Script\n",
    "This script verifies your solution for task 1b of Assignment 2.\n",
    "\n",
    "This assumes your program lies in a folder called submission."
   ]
  },
  {
   "cell_type": "code",
   "execution_count": 1,
   "metadata": {},
   "outputs": [
    {
     "name": "stdout",
     "output_type": "stream",
     "text": [
      " - Output - \n",
      "[ 2020-10-15 18:07:54.694084 ] Running program (submission/task1b.py)\n",
      "[ 2020-10-15 18:07:54.697715 ] Program output stream:\n",
      "\n",
      "[ 2020-10-15 18:08:16.697986 ] Program error stream:\n",
      "\n",
      "[ 2020-10-15 18:08:16.698084 ] Program took 0.0036 seconds to run.\n",
      "[ 2020-10-15 18:08:16.698098 ] Loading abt_blocks.csv\n",
      "[ 2020-10-15 18:08:16.710257 ] Loaded abt_blocks.csv\n",
      "[ 2020-10-15 18:08:16.710602 ] Loading buy_blocks.csv\n",
      "[ 2020-10-15 18:08:16.718859 ] Loaded buy_blocks.csv\n",
      "[ 2020-10-15 18:08:16.718928 ] Converting block keys to strings\n",
      "[ 2020-10-15 18:08:16.724420 ] Loading abt_buy_truth.csv\n",
      "[ 2020-10-15 18:08:16.726912 ] Loaded abt_buy_truth.csv\n",
      "[ 2020-10-15 18:08:16.726959 ] Calculating statistics for linkage.\n",
      "[ 2020-10-15 18:08:16.726968 ] Loading abt.csv and buy.csv.\n",
      "[ 2020-10-15 18:08:16.742864 ] Performing basic checking on datasets.\n",
      "[ 2020-10-15 18:08:24.809644 ] Results:\n",
      "\tPair Completeness: 0.9762989972652689\n",
      "\tReduction Ratio: 0.9233674897412177\n",
      "\tExecution time: 0.0036s\n",
      "[ 2020-10-15 18:08:24.809683 ] Extra Statistics:\n",
      "\tTrue Positive Count: 1071\n",
      "\tFalse Positive Count: 89390\n",
      "\tFalse Negative Count: 26\n",
      "\tTrue Negative Count (Assuming unique blocking): 1089965\n",
      "\tn (unique blocking): 1180452\n",
      "\tLargest paired block:\n",
      "\t\tBlocking key: cameradigital\n",
      "\t\tAbt ids in block: 72\n",
      "\t\tBuy ids in block: 74\n",
      "\t\tComparisons required: 5328\n",
      "[ 2020-10-15 18:08:24.809705 ] Script complete.\n",
      "\n",
      " - Errors - \n",
      "No execution errors!\n",
      " ---------- \n"
     ]
    }
   ],
   "source": [
    "import subprocess\n",
    "program = subprocess.Popen(['python', 'verify_ass2_1b.py'], \n",
    "                           stdout=subprocess.PIPE, stderr=subprocess.PIPE)\n",
    "print(\" - Output - \")\n",
    "print(program.stdout.read().decode())\n",
    "print(\" - Errors - \")\n",
    "error_text = program.stderr.read().decode()\n",
    "if not error_text:\n",
    "    error_text = \"No execution errors!\"\n",
    "print(error_text)\n",
    "print(\" ---------- \")"
   ]
  },
  {
   "cell_type": "markdown",
   "metadata": {},
   "source": [
    "### Cleanup\n",
    "This code snippet removes task1a.csv to clean up your current directory."
   ]
  },
  {
   "cell_type": "code",
   "execution_count": 3,
   "metadata": {},
   "outputs": [
    {
     "name": "stdout",
     "output_type": "stream",
     "text": [
      " - Output - \n",
      "\n",
      " - Errors - \n",
      "\n",
      " ---------- \n",
      " - Output - \n",
      "\n",
      " - Errors - \n",
      "\n",
      " ---------- \n"
     ]
    }
   ],
   "source": [
    "import subprocess\n",
    "cleanup = subprocess.Popen(['rm', 'abt_blocks.csv'],\n",
    "                           stdout=subprocess.PIPE, stderr=subprocess.PIPE)\n",
    "print(\" - Output - \")\n",
    "print(cleanup.stdout.read().decode())\n",
    "print(\" - Errors - \")\n",
    "print(cleanup.stderr.read().decode())\n",
    "print(\" ---------- \")\n",
    "\n",
    "cleanup = subprocess.Popen(['rm', 'buy_blocks.csv'],\n",
    "                           stdout=subprocess.PIPE, stderr=subprocess.PIPE)\n",
    "print(\" - Output - \")\n",
    "print(cleanup.stdout.read().decode())\n",
    "print(\" - Errors - \")\n",
    "print(cleanup.stderr.read().decode())\n",
    "print(\" ---------- \")"
   ]
  }
 ],
 "metadata": {
  "kernelspec": {
   "display_name": "Python 3",
   "language": "python",
   "name": "python3"
  },
  "language_info": {
   "codemirror_mode": {
    "name": "ipython",
    "version": 3
   },
   "file_extension": ".py",
   "mimetype": "text/x-python",
   "name": "python",
   "nbconvert_exporter": "python",
   "pygments_lexer": "ipython3",
   "version": "3.7.4"
  }
 },
 "nbformat": 4,
 "nbformat_minor": 4
}
