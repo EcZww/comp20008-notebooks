{
 "cells": [
  {
   "cell_type": "markdown",
   "metadata": {},
   "source": [
    "# Assignment 2 Verification Script\n",
    "This script verifies your solution for Assignment 2, running all the task verification scripts in a row.\n",
    "\n",
    "This assumes your program lies in a folder called submission."
   ]
  },
  {
   "cell_type": "code",
   "execution_count": 2,
   "metadata": {},
   "outputs": [
    {
     "data": {
      "text/html": [
       "<span style=\"color:blue\">Running script verify_ass2_1a.py</span>"
      ],
      "text/plain": [
       "<IPython.core.display.HTML object>"
      ]
     },
     "metadata": {},
     "output_type": "display_data"
    },
    {
     "name": "stdout",
     "output_type": "stream",
     "text": [
      " - Output - \n",
      "[ 2020-10-15 18:10:31.305041 ] Running program (submission/task1a.py)\n",
      "[ 2020-10-15 18:10:31.308843 ] Program output stream:\n",
      "\n",
      "[ 2020-10-15 18:11:00.414502 ] Program error stream:\n",
      "[nltk_data] Downloading package wordnet to /home/jovyan/nltk_data...\n",
      "[nltk_data]   Package wordnet is already up-to-date!\n",
      "\n",
      "[ 2020-10-15 18:11:00.414594 ] Program took 0.003771 seconds to run.\n",
      "[ 2020-10-15 18:11:00.414604 ] Loading task1a.csv\n",
      "[ 2020-10-15 18:11:00.419102 ] Loaded task1a.csv\n",
      "[ 2020-10-15 18:11:00.419439 ] Loading abt_buy_truth_small.csv\n",
      "[ 2020-10-15 18:11:00.421084 ] Loaded abt_buy_truth_small.csv\n",
      "[ 2020-10-15 18:11:00.421098 ] Running basic checking for task1a.csv\n",
      "[ 2020-10-15 18:11:00.468090 ] Calculating statistics for linkage.\n",
      "[ 2020-10-15 18:11:00.468105 ] Loading abt_small.csv and buy_small.csv for extra statistics.\n",
      "[ 2020-10-15 18:11:00.474356 ] Checking that all FP values are present in one of original datasets\n",
      "[ 2020-10-15 18:11:00.551708 ] Results:\n",
      "\tRecall: 0.7986577181208053\n",
      "\tPrecision: 1.0\n",
      "[ 2020-10-15 18:11:00.551735 ] Extra Statistics:\n",
      "\tTrue Positive Count: 119\n",
      "\tFalse Positive Count: 0\n",
      "\tFalse Negative Count: 30\n",
      "\tTrue Negative Count: 61603\n",
      "\tRows from neither source dataset: 98\n",
      "[ 2020-10-15 18:11:00.551745 ] Script complete.\n",
      "\n",
      " - Errors - \n"
     ]
    },
    {
     "data": {
      "text/html": [
       "<span style=\"color:red\">/opt/conda/lib/python3.7/site-packages/pandas/core/ops/array_ops.py:253: FutureWarning: elementwise comparison failed; returning scalar instead, but in the future will perform elementwise comparison<br>  res_values = method(rvalues)<br></span>"
      ],
      "text/plain": [
       "<IPython.core.display.HTML object>"
      ]
     },
     "metadata": {},
     "output_type": "display_data"
    },
    {
     "name": "stdout",
     "output_type": "stream",
     "text": [
      " ---------- \n",
      "\n"
     ]
    },
    {
     "data": {
      "text/html": [
       "<span style=\"color:blue\">Running script verify_ass2_1b.py</span>"
      ],
      "text/plain": [
       "<IPython.core.display.HTML object>"
      ]
     },
     "metadata": {},
     "output_type": "display_data"
    },
    {
     "name": "stdout",
     "output_type": "stream",
     "text": [
      " - Output - \n",
      "[ 2020-10-15 18:11:01.121290 ] Running program (submission/task1b.py)\n",
      "[ 2020-10-15 18:11:01.125074 ] Program output stream:\n",
      "\n",
      "[ 2020-10-15 18:11:24.891507 ] Program error stream:\n",
      "\n",
      "[ 2020-10-15 18:11:24.891655 ] Program took 0.003754 seconds to run.\n",
      "[ 2020-10-15 18:11:24.891667 ] Loading abt_blocks.csv\n",
      "[ 2020-10-15 18:11:24.901101 ] Loaded abt_blocks.csv\n",
      "[ 2020-10-15 18:11:24.901376 ] Loading buy_blocks.csv\n",
      "[ 2020-10-15 18:11:24.908134 ] Loaded buy_blocks.csv\n",
      "[ 2020-10-15 18:11:24.908191 ] Converting block keys to strings\n",
      "[ 2020-10-15 18:11:24.912414 ] Loading abt_buy_truth.csv\n",
      "[ 2020-10-15 18:11:24.914036 ] Loaded abt_buy_truth.csv\n",
      "[ 2020-10-15 18:11:24.914076 ] Calculating statistics for linkage.\n",
      "[ 2020-10-15 18:11:24.914083 ] Loading abt.csv and buy.csv.\n",
      "[ 2020-10-15 18:11:24.924297 ] Performing basic checking on datasets.\n",
      "[ 2020-10-15 18:11:32.313360 ] Results:\n",
      "\tPair Completeness: 0.9762989972652689\n",
      "\tReduction Ratio: 0.9233674897412177\n",
      "\tExecution time: 0.003754s\n",
      "[ 2020-10-15 18:11:32.313396 ] Extra Statistics:\n",
      "\tTrue Positive Count: 1071\n",
      "\tFalse Positive Count: 89390\n",
      "\tFalse Negative Count: 26\n",
      "\tTrue Negative Count (Assuming unique blocking): 1089965\n",
      "\tn (unique blocking): 1180452\n",
      "\tLargest paired block:\n",
      "\t\tBlocking key: cameradigital\n",
      "\t\tAbt ids in block: 72\n",
      "\t\tBuy ids in block: 74\n",
      "\t\tComparisons required: 5328\n",
      "[ 2020-10-15 18:11:32.313417 ] Script complete.\n",
      "\n",
      " - Errors - \n"
     ]
    },
    {
     "data": {
      "text/html": [
       "<span style=\"color:green\">No execution errors!</span>"
      ],
      "text/plain": [
       "<IPython.core.display.HTML object>"
      ]
     },
     "metadata": {},
     "output_type": "display_data"
    },
    {
     "name": "stdout",
     "output_type": "stream",
     "text": [
      " ---------- \n",
      "\n"
     ]
    },
    {
     "data": {
      "text/html": [
       "<span style=\"color:blue\">Running script verify_ass2_2a.py</span>"
      ],
      "text/plain": [
       "<IPython.core.display.HTML object>"
      ]
     },
     "metadata": {},
     "output_type": "display_data"
    },
    {
     "name": "stdout",
     "output_type": "stream",
     "text": [
      " - Output - \n",
      "[ 2020-10-15 18:11:32.780641 ] Running program (submission/task2a.py).\n",
      "[ 2020-10-15 18:11:32.784185 ] Program output stream:\n",
      "Accuracy of decision tree: 65.079%\n",
      "Accuracy of k-nn (k=5): 68.254%\n",
      "Accuracy of k-nn (k=10): 71.429%\n",
      "\n",
      "[ 2020-10-15 18:11:33.700716 ] Program error stream:\n",
      "submission/task2a.py:20: SettingWithCopyWarning: \n",
      "A value is trying to be set on a copy of a slice from a DataFrame\n",
      "\n",
      "See the caveats in the documentation: https://pandas.pydata.org/pandas-docs/stable/user_guide/indexing.html#returning-a-view-versus-a-copy\n",
      "  world[i][j] = np.nan\n",
      "\n",
      "[ 2020-10-15 18:11:33.700798 ] Program took 0.003502 seconds to run.\n",
      "[ 2020-10-15 18:11:33.700807 ] Loading task2a.csv.\n",
      "[ 2020-10-15 18:11:33.705208 ] Loaded task2a.csv.\n",
      "[ 2020-10-15 18:11:33.705490 ] Performing basic checking on datasets.\n",
      "Task 2a testing failed:\n",
      "AssertionError(\"Couldn't find row 'Access to electricity, rural (% of rural population) [EG.ELC.ACCS.RU.ZS]'\")\n",
      "\n",
      "\n",
      " - Errors - \n"
     ]
    },
    {
     "data": {
      "text/html": [
       "<span style=\"color:red\">Traceback (most recent call last):<br>  File &quot;verify_ass2_2a.py&quot;, line 240, in &lt;module&gt;<br>    assert len(feature_row) &gt; 0, &quot;Couldn&#x27;t find row &#x27;{}&#x27;&quot;.format(feature)<br>AssertionError: Couldn&#x27;t find row &#x27;Access to electricity, rural (% of rural population) [EG.ELC.ACCS.RU.ZS]&#x27;<br></span>"
      ],
      "text/plain": [
       "<IPython.core.display.HTML object>"
      ]
     },
     "metadata": {},
     "output_type": "display_data"
    },
    {
     "name": "stdout",
     "output_type": "stream",
     "text": [
      " ---------- \n",
      "\n"
     ]
    },
    {
     "data": {
      "text/html": [
       "<span style=\"color:blue\">Running script verify_ass2_2b.py</span>"
      ],
      "text/plain": [
       "<IPython.core.display.HTML object>"
      ]
     },
     "metadata": {},
     "output_type": "display_data"
    },
    {
     "name": "stdout",
     "output_type": "stream",
     "text": [
      " - Output - \n",
      "[ 2020-10-15 18:11:34.184583 ] Running program (submission/task2b.py).\n",
      "[ 2020-10-15 18:11:34.188075 ] Program output stream:\n",
      "Figure(1000x600)\n",
      "CLUSTER LABELS of K-means Clustering in the Training set:\n",
      "     fclusterlabel\n",
      "0                0\n",
      "1                3\n",
      "2                0\n",
      "3                0\n",
      "4                2\n",
      "..             ...\n",
      "115              0\n",
      "116              3\n",
      "117              0\n",
      "118              0\n",
      "119              2\n",
      "\n",
      "[120 rows x 1 columns]\n",
      "CLUSTER LABELS of K-means Clustering in the Test set:\n",
      "    fclusterlabel\n",
      "0               3\n",
      "1               0\n",
      "2               2\n",
      "3               3\n",
      "4               1\n",
      "..            ...\n",
      "58              0\n",
      "59              0\n",
      "60              0\n",
      "61              0\n",
      "62              0\n",
      "\n",
      "[63 rows x 1 columns]\n",
      "GENERATED POLYNOMIAL FEATURES on Training Set:\n",
      "     0         1         2         3    ...       227       228       229       230\n",
      "0    1.0  0.548217 -0.355031 -0.245601  ... -0.066964  0.043528 -0.043528  0.043528\n",
      "1    1.0  0.569967  0.171319 -0.826055  ...  0.178024  0.628527 -0.628527  0.628527\n",
      "2    1.0  0.569967 -0.472674 -0.723579  ... -0.246494  0.567455 -0.567455  0.567455\n",
      "3    1.0  0.569967 -0.355031 -0.237263  ... -0.152593  0.192238 -0.192238  0.192238\n",
      "4    1.0  0.569967  2.300929 -2.670289  ... -0.179696  1.834558 -1.834558  1.834559\n",
      "..   ...       ...       ...       ...  ...       ...       ...       ...       ...\n",
      "115  1.0  0.297559 -0.464234  0.381740  ... -0.071424  0.043528 -0.043528  0.043528\n",
      "116  1.0  0.569967 -0.355031 -0.458397  ...  0.466021  1.390394 -1.390394  1.390394\n",
      "117  1.0  0.218741 -0.417428  0.688031  ...  0.106716  0.098425 -0.098425  0.098425\n",
      "118  1.0  0.569967 -0.176007 -0.275908  ...  0.626800  1.163391 -1.163391  1.163391\n",
      "119  1.0  0.569967  2.431585 -0.536284  ...  0.700424  1.078085 -1.078085  1.078085\n",
      "\n",
      "[120 rows x 231 columns]\n",
      "GENERATED POLYNOMIAL FEATURES on Test Set:\n",
      "    0         1         2         3    ...       227       228       229       230\n",
      "0   1.0  0.569967  0.912260 -1.902085  ... -0.346488  1.661330 -1.661331  1.661331\n",
      "1   1.0  0.569967 -0.325306 -1.169259  ...  0.142938  0.206172 -0.206172  0.206172\n",
      "2   1.0  0.569967  2.142819 -0.171846  ...  0.358168  1.034771 -1.034771  1.034771\n",
      "3   1.0  0.569967  0.166111 -0.642824  ...  0.663200  1.221425 -1.221425  1.221425\n",
      "4   1.0  0.569967  3.190541 -0.067640  ...  6.145040  1.408039 -1.408039  1.408039\n",
      "..  ...       ...       ...       ...  ...       ...       ...       ...       ...\n",
      "58  1.0  0.439536 -0.385664 -0.065224  ...  0.000051  0.018591 -0.018591  0.018591\n",
      "59  1.0 -2.896983 -0.684461  1.590474  ...  0.708491  4.141781 -4.141781  4.141781\n",
      "60  1.0  0.385426 -0.418959 -0.336859  ...  0.068328  0.042323 -0.042323  0.042323\n",
      "61  1.0  0.119562 -0.586652 -0.436881  ...  0.497113  2.141885 -2.141885  2.141885\n",
      "62  1.0  0.394580 -0.436437 -0.332812  ... -0.320927  1.029328 -1.029328  1.029328\n",
      "\n",
      "[63 rows x 231 columns]\n",
      "INTERACTION TERM PAIRS for Training set:\n",
      "          f01       f02       f03  ...     f1718     f1719     f1819\n",
      "0   -0.194634 -0.134643 -0.212733  ...  0.066964 -0.066964 -0.043528\n",
      "1    0.097646 -0.470824 -0.473805  ... -0.178024  0.178024 -0.628527\n",
      "2   -0.269408 -0.412416 -0.383694  ...  0.246494 -0.246494 -0.567455\n",
      "3   -0.202356 -0.135232 -0.081180  ...  0.152593 -0.152593 -0.192238\n",
      "4    1.311454 -1.521976 -0.425531  ...  0.179696 -0.179696 -1.834558\n",
      "..        ...       ...       ...  ...       ...       ...       ...\n",
      "115 -0.138137  0.113590  0.150833  ...  0.071424 -0.071424 -0.043528\n",
      "116 -0.202356 -0.261271 -0.428749  ... -0.466021  0.466021 -1.390394\n",
      "117 -0.091309  0.150501  0.066417  ... -0.106716  0.106716 -0.098425\n",
      "118 -0.100318 -0.157259 -0.563915  ... -0.626800  0.626800 -1.163391\n",
      "119  1.385923 -0.305664 -0.551042  ... -0.700424  0.700424 -1.078085\n",
      "\n",
      "[120 rows x 190 columns]\n",
      "INTERACTION TERM PAIRS for Test set:\n",
      "         f01       f02       f03  ...     f1718     f1719     f1819\n",
      "0   0.519958 -1.084125 -0.412658  ...  0.346488 -0.346488 -1.661331\n",
      "1  -0.185414 -0.666439 -0.126235  ... -0.142938  0.142938 -0.206172\n",
      "2   1.221336 -0.097947 -0.380476  ... -0.358168  0.358168 -1.034771\n",
      "3   0.094678 -0.366388 -0.576788  ... -0.663200  0.663200 -1.221425\n",
      "4   1.818503 -0.038552 -0.425531  ... -6.145040  6.145040 -1.408039\n",
      "..       ...       ...       ...  ...       ...       ...       ...\n",
      "58 -0.169513 -0.028668 -0.008004  ... -0.000051  0.000051 -0.018591\n",
      "59  1.982872 -4.607576 -6.244845  ... -0.708491  0.708491 -4.141781\n",
      "60 -0.161478 -0.129834 -0.265993  ... -0.068328  0.068328 -0.042323\n",
      "61 -0.070141 -0.052234  0.042379  ... -0.497113  0.497113 -2.141885\n",
      "62 -0.172210 -0.131321 -0.143089  ...  0.320927 -0.320927 -1.029328\n",
      "\n",
      "[63 rows x 190 columns]\n",
      "CORRELATED COLUMNS TO DROP [4, 8, 9, 13, 19, 23, 24, 26, 27, 28, 32, 37, 38, 40, 41, 42, 43, 45, 46, 47, 49, 50, 51, 52, 53, 55, 56, 57, 59, 61, 62, 63, 66, 67, 68, 70, 72, 73, 74, 75, 78, 79, 81, 82, 83, 84, 86, 87, 89, 90, 91, 92, 93, 94, 95, 96, 97, 98, 99, 100, 101, 102, 103, 104, 107, 108, 110, 111, 112, 113, 114, 115, 116, 117, 118, 120, 121, 125, 129, 131, 132, 133, 135, 136, 137, 138, 139, 141, 143, 144, 145, 146, 147, 148, 149, 150, 151, 152, 153, 154, 155, 156, 157, 158, 159, 160, 161, 162, 163, 164, 165, 167, 168, 171, 173, 174, 175, 178, 179, 180, 181, 182, 183, 184, 185, 186, 187, 188, 189, 190, 191, 192, 193, 194, 197, 198, 199, 200, 201, 202, 203, 204, 205, 206, 207, 208]\n",
      "NUMBER OF FEATURES LEFT AFTER DROPPING CORRELATED FEATURES: 65\n",
      "FEATURES LEFT AFTER DROPPING CORRELATED FEATRES:\n",
      "Index([              0,               1,               2,               3,\n",
      "                     5,               6,               7,              10,\n",
      "                    11,              12,              14,              15,\n",
      "                    16,              17,              18,           'f01',\n",
      "                 'f02',           'f03',           'f06',          'f010',\n",
      "                'f011',          'f012',          'f014',          'f015',\n",
      "                'f016',          'f017',           'f12',           'f17',\n",
      "                'f111',          'f117',           'f24',           'f26',\n",
      "                'f210',          'f211',          'f215',          'f217',\n",
      "                 'f36',           'f37',          'f310',          'f315',\n",
      "                'f318',           'f56',           'f57',          'f510',\n",
      "                 'f67',          'f610',          'f611',          'f612',\n",
      "                'f614',          'f615',          'f616',          'f618',\n",
      "                'f710',          'f716',          'f718',         'f1012',\n",
      "               'f1015',         'f1016',         'f1018',         'f1114',\n",
      "               'f1115',         'f1415',         'f1416',         'f1819',\n",
      "       'fclusterlabel'],\n",
      "      dtype='object')\n",
      "Number of Features left after using LogisticRegression: 26\n",
      "Features left after using LogisticRegression:\n",
      "Index([              0,               1,               3,               5,\n",
      "                     6,              10,              11,              12,\n",
      "                    15,              16,              18,          'f016',\n",
      "                 'f17',          'f111',           'f26',           'f37',\n",
      "                'f610',          'f616',          'f618',          'f710',\n",
      "                'f716',          'f718',         'f1012',         'f1016',\n",
      "               'f1819', 'fclusterlabel'],\n",
      "      dtype='object')\n",
      "Best 4 features selected using ANOVA F : Index([3, 10, 12, 16], dtype='object')\n",
      "Accuracy of ANOVA F : 66.667%\n",
      "Best 4 features selected using Chi-square : Index([3, 6, 11, 'fclusterlabel'], dtype='object')\n",
      "Accuracy of Chi-square : 71.429%\n",
      "Best 4 features selected using Mutual Information : Index([3, 10, 15, 16], dtype='object')\n",
      "Accuracy of Mutual Information : 71.429%\n",
      "TRAINING SET before PCA:\n",
      "           0         1         2   ...        17        18        19\n",
      "0    0.548217 -0.355031 -0.245601  ... -0.320964 -0.208633  0.208633\n",
      "1    0.569967  0.171319 -0.826055  ...  0.224552 -0.792797  0.792797\n",
      "2    0.569967 -0.472674 -0.723579  ... -0.327221 -0.753296  0.753296\n",
      "3    0.569967 -0.355031 -0.237263  ... -0.348028 -0.438450  0.438450\n",
      "4    0.569967  2.300929 -2.670289  ... -0.132670 -1.354459  1.354459\n",
      "..        ...       ...       ...  ...       ...       ...       ...\n",
      "115  0.297559 -0.464234  0.381740  ... -0.342345 -0.208633  0.208633\n",
      "116  0.569967 -0.355031 -0.458397  ...  0.395218 -1.179150  1.179150\n",
      "117  0.218741 -0.417428  0.688031  ... -0.340156  0.313728 -0.313728\n",
      "118  0.569967 -0.176007 -0.275908  ...  0.581120 -1.078606  1.078606\n",
      "119  0.569967  2.431585 -0.536284  ...  0.674582 -1.038309  1.038309\n",
      "\n",
      "[120 rows x 20 columns]\n",
      "TEST SET before PCA:\n",
      "          0         1         2   ...        17        18        19\n",
      "0   0.569967  0.912260 -1.902085  ... -0.268819 -1.288926  1.288926\n",
      "1   0.569967 -0.325306 -1.169259  ... -0.314798  0.454062 -0.454062\n",
      "2   0.569967  2.142819 -0.171846  ...  0.352099 -1.017237  1.017237\n",
      "3   0.569967  0.166111 -0.642824  ...  0.600083 -1.105181  1.105181\n",
      "4   0.569967  3.190541 -0.067640  ...  5.178659 -1.186608  1.186608\n",
      "..       ...       ...       ...  ...       ...       ...       ...\n",
      "58  0.439536 -0.385664 -0.065224  ...  0.000372 -0.136348  0.136348\n",
      "59 -2.896983 -0.684461  1.590474  ... -0.348129  2.035137 -2.035137\n",
      "60  0.385426 -0.418959 -0.336859  ... -0.332134  0.205726 -0.205726\n",
      "61  0.119562 -0.586652 -0.436881  ... -0.339670  1.463518 -1.463518\n",
      "62  0.394580 -0.436437 -0.332812  ... -0.316322 -1.014558  1.014558\n",
      "\n",
      "[63 rows x 20 columns]\n",
      "PRINCIPAL COMPONENTS in the Training set:\n",
      "            0         1         2         3\n",
      "0   -0.621103 -1.344093 -0.080619 -0.193588\n",
      "1   -2.803355 -0.764456  0.124437  0.358618\n",
      "2   -1.024543 -1.868071 -0.417339 -0.111518\n",
      "3   -0.443007 -1.670518 -0.238725 -0.742863\n",
      "4   -4.300829  1.154675 -2.505634  0.242126\n",
      "..        ...       ...       ...       ...\n",
      "115  1.557724 -1.103966 -0.306408 -0.624052\n",
      "116 -4.524527  0.656354  1.349379  2.057041\n",
      "117  0.851603 -0.969217  0.333541 -0.412779\n",
      "118 -2.416384 -0.911626  0.813257  0.701780\n",
      "119 -5.511316  3.133610 -0.495422  0.057930\n",
      "\n",
      "[120 rows x 4 columns]\n",
      "PRINCIPAL COMPONENTS in the Test set:\n",
      "           0         1         2         3\n",
      "0  -3.245068 -0.145132 -1.474296  0.686718\n",
      "1  -0.942397 -1.793421 -0.048132 -1.020198\n",
      "2  -5.258839  2.975519 -0.293183  0.462075\n",
      "3  -3.433829 -0.365892  0.823756  1.117387\n",
      "4  -6.644772  5.857946  1.797753 -1.498549\n",
      "..       ...       ...       ...       ...\n",
      "58 -0.497635 -1.500139  0.109745 -0.768923\n",
      "59  8.392751  3.169137  0.325755  1.372230\n",
      "60  0.057888 -1.579402  0.167215 -0.692749\n",
      "61  2.079594 -1.232738  0.091263 -1.469091\n",
      "62 -0.911557 -1.154433 -0.210682  0.672158\n",
      "\n",
      "[63 rows x 4 columns]\n",
      "FIRST FOUR FEATURES in the Training set:\n",
      "            0         1         2         3\n",
      "0    0.548217 -0.355031 -0.245601 -0.388046\n",
      "1    0.569967  0.171319 -0.826055 -0.831285\n",
      "2    0.569967 -0.472674 -0.723579 -0.673187\n",
      "3    0.569967 -0.355031 -0.237263 -0.142429\n",
      "4    0.569967  2.300929 -2.670289 -0.746589\n",
      "..        ...       ...       ...       ...\n",
      "115  0.297559 -0.464234  0.381740  0.506902\n",
      "116  0.569967 -0.355031 -0.458397 -0.752236\n",
      "117  0.218741 -0.417428  0.688031  0.303633\n",
      "118  0.569967 -0.176007 -0.275908 -0.989383\n",
      "119  0.569967  2.431585 -0.536284 -0.966797\n",
      "\n",
      "[120 rows x 4 columns]\n",
      "FIRST FOUR FEATURES in the Test set:\n",
      "           0         1         2         3\n",
      "0   0.569967  0.912260 -1.902085 -0.724004\n",
      "1   0.569967 -0.325306 -1.169259 -0.221478\n",
      "2   0.569967  2.142819 -0.171846 -0.667540\n",
      "3   0.569967  0.166111 -0.642824 -1.011968\n",
      "4   0.569967  3.190541 -0.067640 -0.746589\n",
      "..       ...       ...       ...       ...\n",
      "58  0.439536 -0.385664 -0.065224 -0.018209\n",
      "59 -2.896983 -0.684461  1.590474  2.155637\n",
      "60  0.385426 -0.418959 -0.336859 -0.690126\n",
      "61  0.119562 -0.586652 -0.436881  0.354450\n",
      "62  0.394580 -0.436437 -0.332812 -0.362637\n",
      "\n",
      "[63 rows x 4 columns]\n",
      "Accuracy of feature engineering: 71.429%\n",
      "Accuracy of PCA: 73.016%\n",
      "Accuracy of first four features: 69.841%\n",
      "\n",
      "[ 2020-10-15 18:11:42.250265 ] Program error stream:\n",
      "submission/task2b.py:26: SettingWithCopyWarning: \n",
      "A value is trying to be set on a copy of a slice from a DataFrame\n",
      "\n",
      "See the caveats in the documentation: https://pandas.pydata.org/pandas-docs/stable/user_guide/indexing.html#returning-a-view-versus-a-copy\n",
      "  world[i][j] = None\n",
      "\n",
      "[ 2020-10-15 18:11:42.250360 ] Program took 0.003463 seconds to run.\n",
      "[ 2020-10-15 18:11:42.250367 ] Checking program output.\n",
      "[ 2020-10-15 18:11:42.252038 ] Testing retrieved the following values from program output:\n",
      "Feature engineering accuracy: 0.714\n",
      "PCA                 accuracy: 0.730\n",
      "First four features accuracy: 0.698\n",
      "[ 2020-10-15 18:11:42.372993 ] Extra task2b files:\n",
      "\ttask2bgraph1.png\tThu Oct 15 18:11:37 2020\t167.3KiB\n",
      "[ 2020-10-15 18:11:42.373060 ] Script complete.\n",
      "\n",
      " - Errors - \n"
     ]
    },
    {
     "data": {
      "text/html": [
       "<span style=\"color:green\">No execution errors!</span>"
      ],
      "text/plain": [
       "<IPython.core.display.HTML object>"
      ]
     },
     "metadata": {},
     "output_type": "display_data"
    },
    {
     "name": "stdout",
     "output_type": "stream",
     "text": [
      " ---------- \n",
      "\n"
     ]
    }
   ],
   "source": [
    "import subprocess\n",
    "from IPython.core.display import display, HTML\n",
    "import html\n",
    "for script in ['verify_ass2_1a.py', 'verify_ass2_1b.py', 'verify_ass2_2a.py', 'verify_ass2_2b.py']:\n",
    "    display(HTML('<span style=\"color:blue\">Running script {}</span>'.format(html.escape(script))))\n",
    "    program = subprocess.Popen(['python', script], \n",
    "                               stdout=subprocess.PIPE, stderr=subprocess.PIPE)\n",
    "    print(\" - Output - \")\n",
    "    print(program.stdout.read().decode())\n",
    "    print(\" - Errors - \")\n",
    "    error_text = program.stderr.read().decode()\n",
    "    if not error_text or len(error_text) <= 1:\n",
    "        error_text = \"No execution errors!\"\n",
    "        display(HTML('<span style=\"color:green\">{}</span>'.format(html.escape(error_text).replace(\"\\n\",\"<br>\"))))\n",
    "    else:\n",
    "        display(HTML('<span style=\"color:red\">{}</span>'.format(html.escape(error_text).replace(\"\\n\",\"<br>\"))))\n",
    "    print(\" ---------- \")\n",
    "    print(\"\")"
   ]
  }
 ],
 "metadata": {
  "kernelspec": {
   "display_name": "Python 3",
   "language": "python",
   "name": "python3"
  },
  "language_info": {
   "codemirror_mode": {
    "name": "ipython",
    "version": 3
   },
   "file_extension": ".py",
   "mimetype": "text/x-python",
   "name": "python",
   "nbconvert_exporter": "python",
   "pygments_lexer": "ipython3",
   "version": "3.7.4"
  }
 },
 "nbformat": 4,
 "nbformat_minor": 4
}
