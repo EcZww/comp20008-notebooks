{
 "cells": [
  {
   "cell_type": "markdown",
   "metadata": {},
   "source": [
    "# Assignment 2 Task 2a Verification Script\n",
    "This script verifies your solution for task 2a of Assignment 2.\n",
    "\n",
    "This assumes your program lies in a folder called submission."
   ]
  },
  {
   "cell_type": "code",
   "execution_count": 3,
   "metadata": {},
   "outputs": [
    {
     "data": {
      "text/html": [
       "<span style=\"color:blue\">Running your program</span>"
      ],
      "text/plain": [
       "<IPython.core.display.HTML object>"
      ]
     },
     "metadata": {},
     "output_type": "display_data"
    },
    {
     "name": "stdout",
     "output_type": "stream",
     "text": [
      " - Output - \n",
      "[ 2020-10-15 18:09:21.596797 ] Running program (submission/task2a.py).\n",
      "[ 2020-10-15 18:09:21.600425 ] Program output stream:\n",
      "Accuracy of decision tree: 63.492%\n",
      "Accuracy of k-nn (k=5): 68.254%\n",
      "Accuracy of k-nn (k=10): 71.429%\n",
      "\n",
      "[ 2020-10-15 18:09:22.661364 ] Program error stream:\n",
      "submission/task2a.py:20: SettingWithCopyWarning: \n",
      "A value is trying to be set on a copy of a slice from a DataFrame\n",
      "\n",
      "See the caveats in the documentation: https://pandas.pydata.org/pandas-docs/stable/user_guide/indexing.html#returning-a-view-versus-a-copy\n",
      "  world[i][j] = np.nan\n",
      "\n",
      "[ 2020-10-15 18:09:22.661455 ] Program took 0.003595 seconds to run.\n",
      "[ 2020-10-15 18:09:22.661470 ] Loading task2a.csv.\n",
      "[ 2020-10-15 18:09:22.665896 ] Loaded task2a.csv.\n",
      "[ 2020-10-15 18:09:22.666184 ] Performing basic checking on datasets.\n",
      "Task 2a testing failed:\n",
      "AssertionError(\"Couldn't find row 'Access to electricity, rural (% of rural population) [EG.ELC.ACCS.RU.ZS]'\")\n",
      "\n",
      "\n",
      " - Errors - \n"
     ]
    },
    {
     "data": {
      "text/html": [
       "<span style=\"color:red\">Traceback (most recent call last):<br>  File &quot;verify_ass2_2a.py&quot;, line 240, in &lt;module&gt;<br>    assert len(feature_row) &gt; 0, &quot;Couldn&#x27;t find row &#x27;{}&#x27;&quot;.format(feature)<br>AssertionError: Couldn&#x27;t find row &#x27;Access to electricity, rural (% of rural population) [EG.ELC.ACCS.RU.ZS]&#x27;<br></span>"
      ],
      "text/plain": [
       "<IPython.core.display.HTML object>"
      ]
     },
     "metadata": {},
     "output_type": "display_data"
    },
    {
     "name": "stdout",
     "output_type": "stream",
     "text": [
      " ---------- \n",
      "\n"
     ]
    }
   ],
   "source": [
    "import subprocess\n",
    "from IPython.core.display import display, HTML\n",
    "import html\n",
    "program = subprocess.Popen(['python', 'verify_ass2_2a.py'], \n",
    "                           stdout=subprocess.PIPE, stderr=subprocess.PIPE)\n",
    "display(HTML('<span style=\"color:blue\">Running your program</span>'))\n",
    "print(\" - Output - \")\n",
    "print(program.stdout.read().decode())\n",
    "print(\" - Errors - \")\n",
    "error_text = program.stderr.read().decode()\n",
    "if not error_text or len(error_text) <= 1:\n",
    "    error_text = \"No execution errors!\"\n",
    "    display(HTML('<span style=\"color:green\">{}</span>'.format(html.escape(error_text).replace(\"\\n\",\"<br>\"))))\n",
    "else:\n",
    "    display(HTML('<span style=\"color:red\">{}</span>'.format(html.escape(error_text).replace(\"\\n\",\"<br>\"))))\n",
    "print(\" ---------- \")\n",
    "print(\"\")"
   ]
  },
  {
   "cell_type": "markdown",
   "metadata": {},
   "source": [
    "### Cleanup\n",
    "This code snippet removes task2a.csv to clean up your current directory."
   ]
  },
  {
   "cell_type": "code",
   "execution_count": 4,
   "metadata": {},
   "outputs": [
    {
     "name": "stdout",
     "output_type": "stream",
     "text": [
      " - Output - \n",
      "\n",
      " - Errors - \n",
      "\n",
      " ---------- \n"
     ]
    }
   ],
   "source": [
    "import subprocess\n",
    "cleanup = subprocess.Popen(['rm', 'task2a.csv'],\n",
    "                           stdout=subprocess.PIPE, stderr=subprocess.PIPE)\n",
    "print(\" - Output - \")\n",
    "print(cleanup.stdout.read().decode())\n",
    "print(\" - Errors - \")\n",
    "print(cleanup.stderr.read().decode())\n",
    "print(\" ---------- \")"
   ]
  }
 ],
 "metadata": {
  "kernelspec": {
   "display_name": "Python 3",
   "language": "python",
   "name": "python3"
  },
  "language_info": {
   "codemirror_mode": {
    "name": "ipython",
    "version": 3
   },
   "file_extension": ".py",
   "mimetype": "text/x-python",
   "name": "python",
   "nbconvert_exporter": "python",
   "pygments_lexer": "ipython3",
   "version": "3.7.4"
  }
 },
 "nbformat": 4,
 "nbformat_minor": 4
}
