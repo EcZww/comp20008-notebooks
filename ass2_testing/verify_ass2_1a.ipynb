{
 "cells": [
  {
   "cell_type": "markdown",
   "metadata": {},
   "source": [
    "# Assignment 2 Task 1a Verification Script\n",
    "This script verifies your solution for task 1a of Assignment 2.\n",
    "\n",
    "This assumes your program lies in a folder called submission."
   ]
  },
  {
   "cell_type": "code",
   "execution_count": null,
   "metadata": {},
   "outputs": [],
   "source": [
    "import subprocess\n",
    "from IPython.core.display import display, HTML\n",
    "import html\n",
    "program = subprocess.Popen(['python', 'verify_ass2_1a.py'], \n",
    "                           stdout=subprocess.PIPE, stderr=subprocess.PIPE)\n",
    "display(HTML('<span style=\"color:blue\">Running your program</span>'))\n",
    "print(\" - Output - \")\n",
    "print(program.stdout.read().decode())\n",
    "print(\" - Errors - \")\n",
    "error_text = program.stderr.read().decode()\n",
    "if not error_text or len(error_text) <= 1:\n",
    "    error_text = \"No execution errors!\"\n",
    "    display(HTML('<span style=\"color:green\">{}</span>'.format(html.escape(error_text).replace(\"\\n\",\"<br>\"))))\n",
    "else:\n",
    "    display(HTML('<span style=\"color:red\">{}</span>'.format(html.escape(error_text).replace(\"\\n\",\"<br>\"))))\n",
    "print(\" ---------- \")\n",
    "print(\"\")"
   ]
  },
  {
   "cell_type": "markdown",
   "metadata": {},
   "source": [
    "### Cleanup\n",
    "This code snippet removes task1a.csv to clean up your current directory."
   ]
  },
  {
   "cell_type": "code",
   "execution_count": 3,
   "metadata": {},
   "outputs": [
    {
     "name": "stdout",
     "output_type": "stream",
     "text": [
      " - Output - \n",
      "\n",
      " - Errors - \n",
      "\n",
      " ---------- \n"
     ]
    }
   ],
   "source": [
    "import subprocess\n",
    "cleanup = subprocess.Popen(['rm', 'task1a.csv'],\n",
    "                           stdout=subprocess.PIPE, stderr=subprocess.PIPE)\n",
    "print(\" - Output - \")\n",
    "print(cleanup.stdout.read().decode())\n",
    "print(\" - Errors - \")\n",
    "print(cleanup.stderr.read().decode())\n",
    "print(\" ---------- \")"
   ]
  }
 ],
 "metadata": {
  "kernelspec": {
   "display_name": "Python 3",
   "language": "python",
   "name": "python3"
  },
  "language_info": {
   "codemirror_mode": {
    "name": "ipython",
    "version": 3
   },
   "file_extension": ".py",
   "mimetype": "text/x-python",
   "name": "python",
   "nbconvert_exporter": "python",
   "pygments_lexer": "ipython3",
   "version": "3.7.4"
  }
 },
 "nbformat": 4,
 "nbformat_minor": 4
}
